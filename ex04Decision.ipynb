{
 "cells": [
  {
   "cell_type": "markdown",
   "id": "8e814234",
   "metadata": {},
   "source": [
    "# 문제정의\n",
    "- 버섯의 특징을 사용해서 독/식용 버섯을 분류"
   ]
  },
  {
   "cell_type": "markdown",
   "id": "f3e2b527",
   "metadata": {},
   "source": [
    "## 목표\n",
    "- Decision Tree 과대적합 제어 / 시각화 / 특성 선택"
   ]
  },
  {
   "cell_type": "markdown",
   "id": "f6bba21f",
   "metadata": {},
   "source": [
    "# 데이터 수집"
   ]
  },
  {
   "cell_type": "code",
   "execution_count": 1,
   "id": "1ef921c1",
   "metadata": {
    "scrolled": false
   },
   "outputs": [
    {
     "data": {
      "text/html": [
       "<div>\n",
       "<style scoped>\n",
       "    .dataframe tbody tr th:only-of-type {\n",
       "        vertical-align: middle;\n",
       "    }\n",
       "\n",
       "    .dataframe tbody tr th {\n",
       "        vertical-align: top;\n",
       "    }\n",
       "\n",
       "    .dataframe thead th {\n",
       "        text-align: right;\n",
       "    }\n",
       "</style>\n",
       "<table border=\"1\" class=\"dataframe\">\n",
       "  <thead>\n",
       "    <tr style=\"text-align: right;\">\n",
       "      <th></th>\n",
       "      <th>poisonous</th>\n",
       "      <th>cap-shape</th>\n",
       "      <th>cap-surface</th>\n",
       "      <th>cap-color</th>\n",
       "      <th>bruises</th>\n",
       "      <th>odor</th>\n",
       "      <th>gill-attachment</th>\n",
       "      <th>gill-spacing</th>\n",
       "      <th>gill-size</th>\n",
       "      <th>gill-color</th>\n",
       "      <th>...</th>\n",
       "      <th>stalk-surface-below-ring</th>\n",
       "      <th>stalk-color-above-ring</th>\n",
       "      <th>stalk-color-below-ring</th>\n",
       "      <th>veil-type</th>\n",
       "      <th>veil-color</th>\n",
       "      <th>ring-number</th>\n",
       "      <th>ring-type</th>\n",
       "      <th>spore-print-color</th>\n",
       "      <th>population</th>\n",
       "      <th>habitat</th>\n",
       "    </tr>\n",
       "  </thead>\n",
       "  <tbody>\n",
       "    <tr>\n",
       "      <th>0</th>\n",
       "      <td>p</td>\n",
       "      <td>x</td>\n",
       "      <td>s</td>\n",
       "      <td>n</td>\n",
       "      <td>t</td>\n",
       "      <td>p</td>\n",
       "      <td>f</td>\n",
       "      <td>c</td>\n",
       "      <td>n</td>\n",
       "      <td>k</td>\n",
       "      <td>...</td>\n",
       "      <td>s</td>\n",
       "      <td>w</td>\n",
       "      <td>w</td>\n",
       "      <td>p</td>\n",
       "      <td>w</td>\n",
       "      <td>o</td>\n",
       "      <td>p</td>\n",
       "      <td>k</td>\n",
       "      <td>s</td>\n",
       "      <td>u</td>\n",
       "    </tr>\n",
       "    <tr>\n",
       "      <th>1</th>\n",
       "      <td>e</td>\n",
       "      <td>x</td>\n",
       "      <td>s</td>\n",
       "      <td>y</td>\n",
       "      <td>t</td>\n",
       "      <td>a</td>\n",
       "      <td>f</td>\n",
       "      <td>c</td>\n",
       "      <td>b</td>\n",
       "      <td>k</td>\n",
       "      <td>...</td>\n",
       "      <td>s</td>\n",
       "      <td>w</td>\n",
       "      <td>w</td>\n",
       "      <td>p</td>\n",
       "      <td>w</td>\n",
       "      <td>o</td>\n",
       "      <td>p</td>\n",
       "      <td>n</td>\n",
       "      <td>n</td>\n",
       "      <td>g</td>\n",
       "    </tr>\n",
       "    <tr>\n",
       "      <th>2</th>\n",
       "      <td>e</td>\n",
       "      <td>b</td>\n",
       "      <td>s</td>\n",
       "      <td>w</td>\n",
       "      <td>t</td>\n",
       "      <td>l</td>\n",
       "      <td>f</td>\n",
       "      <td>c</td>\n",
       "      <td>b</td>\n",
       "      <td>n</td>\n",
       "      <td>...</td>\n",
       "      <td>s</td>\n",
       "      <td>w</td>\n",
       "      <td>w</td>\n",
       "      <td>p</td>\n",
       "      <td>w</td>\n",
       "      <td>o</td>\n",
       "      <td>p</td>\n",
       "      <td>n</td>\n",
       "      <td>n</td>\n",
       "      <td>m</td>\n",
       "    </tr>\n",
       "    <tr>\n",
       "      <th>3</th>\n",
       "      <td>p</td>\n",
       "      <td>x</td>\n",
       "      <td>y</td>\n",
       "      <td>w</td>\n",
       "      <td>t</td>\n",
       "      <td>p</td>\n",
       "      <td>f</td>\n",
       "      <td>c</td>\n",
       "      <td>n</td>\n",
       "      <td>n</td>\n",
       "      <td>...</td>\n",
       "      <td>s</td>\n",
       "      <td>w</td>\n",
       "      <td>w</td>\n",
       "      <td>p</td>\n",
       "      <td>w</td>\n",
       "      <td>o</td>\n",
       "      <td>p</td>\n",
       "      <td>k</td>\n",
       "      <td>s</td>\n",
       "      <td>u</td>\n",
       "    </tr>\n",
       "    <tr>\n",
       "      <th>4</th>\n",
       "      <td>e</td>\n",
       "      <td>x</td>\n",
       "      <td>s</td>\n",
       "      <td>g</td>\n",
       "      <td>f</td>\n",
       "      <td>n</td>\n",
       "      <td>f</td>\n",
       "      <td>w</td>\n",
       "      <td>b</td>\n",
       "      <td>k</td>\n",
       "      <td>...</td>\n",
       "      <td>s</td>\n",
       "      <td>w</td>\n",
       "      <td>w</td>\n",
       "      <td>p</td>\n",
       "      <td>w</td>\n",
       "      <td>o</td>\n",
       "      <td>e</td>\n",
       "      <td>n</td>\n",
       "      <td>a</td>\n",
       "      <td>g</td>\n",
       "    </tr>\n",
       "  </tbody>\n",
       "</table>\n",
       "<p>5 rows × 23 columns</p>\n",
       "</div>"
      ],
      "text/plain": [
       "  poisonous cap-shape cap-surface cap-color bruises odor gill-attachment  \\\n",
       "0         p         x           s         n       t    p               f   \n",
       "1         e         x           s         y       t    a               f   \n",
       "2         e         b           s         w       t    l               f   \n",
       "3         p         x           y         w       t    p               f   \n",
       "4         e         x           s         g       f    n               f   \n",
       "\n",
       "  gill-spacing gill-size gill-color  ... stalk-surface-below-ring  \\\n",
       "0            c         n          k  ...                        s   \n",
       "1            c         b          k  ...                        s   \n",
       "2            c         b          n  ...                        s   \n",
       "3            c         n          n  ...                        s   \n",
       "4            w         b          k  ...                        s   \n",
       "\n",
       "  stalk-color-above-ring stalk-color-below-ring veil-type veil-color  \\\n",
       "0                      w                      w         p          w   \n",
       "1                      w                      w         p          w   \n",
       "2                      w                      w         p          w   \n",
       "3                      w                      w         p          w   \n",
       "4                      w                      w         p          w   \n",
       "\n",
       "  ring-number ring-type spore-print-color population habitat  \n",
       "0           o         p                 k          s       u  \n",
       "1           o         p                 n          n       g  \n",
       "2           o         p                 n          n       m  \n",
       "3           o         p                 k          s       u  \n",
       "4           o         e                 n          a       g  \n",
       "\n",
       "[5 rows x 23 columns]"
      ]
     },
     "execution_count": 1,
     "metadata": {},
     "output_type": "execute_result"
    }
   ],
   "source": [
    "import pandas as pd\n",
    "data = pd.read_csv('./data/mushroom.csv')\n",
    "data.head()"
   ]
  },
  {
   "cell_type": "code",
   "execution_count": 2,
   "id": "572dca29",
   "metadata": {},
   "outputs": [
    {
     "data": {
      "text/plain": [
       "(8124, 23)"
      ]
     },
     "execution_count": 2,
     "metadata": {},
     "output_type": "execute_result"
    }
   ],
   "source": [
    "data.shape"
   ]
  },
  {
   "cell_type": "markdown",
   "id": "c311c7d8",
   "metadata": {},
   "source": [
    "# 데이터 전처리"
   ]
  },
  {
   "cell_type": "markdown",
   "id": "8d6c5f55",
   "metadata": {},
   "source": [
    "## 결측치"
   ]
  },
  {
   "cell_type": "code",
   "execution_count": 3,
   "id": "0a8cda87",
   "metadata": {},
   "outputs": [
    {
     "name": "stdout",
     "output_type": "stream",
     "text": [
      "<class 'pandas.core.frame.DataFrame'>\n",
      "RangeIndex: 8124 entries, 0 to 8123\n",
      "Data columns (total 23 columns):\n",
      " #   Column                    Non-Null Count  Dtype \n",
      "---  ------                    --------------  ----- \n",
      " 0   poisonous                 8124 non-null   object\n",
      " 1   cap-shape                 8124 non-null   object\n",
      " 2   cap-surface               8124 non-null   object\n",
      " 3   cap-color                 8124 non-null   object\n",
      " 4   bruises                   8124 non-null   object\n",
      " 5   odor                      8124 non-null   object\n",
      " 6   gill-attachment           8124 non-null   object\n",
      " 7   gill-spacing              8124 non-null   object\n",
      " 8   gill-size                 8124 non-null   object\n",
      " 9   gill-color                8124 non-null   object\n",
      " 10  stalk-shape               8124 non-null   object\n",
      " 11  stalk-root                8124 non-null   object\n",
      " 12  stalk-surface-above-ring  8124 non-null   object\n",
      " 13  stalk-surface-below-ring  8124 non-null   object\n",
      " 14  stalk-color-above-ring    8124 non-null   object\n",
      " 15  stalk-color-below-ring    8124 non-null   object\n",
      " 16  veil-type                 8124 non-null   object\n",
      " 17  veil-color                8124 non-null   object\n",
      " 18  ring-number               8124 non-null   object\n",
      " 19  ring-type                 8124 non-null   object\n",
      " 20  spore-print-color         8124 non-null   object\n",
      " 21  population                8124 non-null   object\n",
      " 22  habitat                   8124 non-null   object\n",
      "dtypes: object(23)\n",
      "memory usage: 1.4+ MB\n"
     ]
    }
   ],
   "source": [
    "data.info()"
   ]
  },
  {
   "cell_type": "markdown",
   "id": "8ccd0d42",
   "metadata": {},
   "source": [
    "# 탐색적 데이터 분석"
   ]
  },
  {
   "cell_type": "markdown",
   "id": "079e8b8c",
   "metadata": {},
   "source": [
    "# 모델 선택 및 하이퍼 파라미터 튜닝"
   ]
  },
  {
   "cell_type": "code",
   "execution_count": 4,
   "id": "abd2df14",
   "metadata": {},
   "outputs": [
    {
     "data": {
      "text/html": [
       "<div>\n",
       "<style scoped>\n",
       "    .dataframe tbody tr th:only-of-type {\n",
       "        vertical-align: middle;\n",
       "    }\n",
       "\n",
       "    .dataframe tbody tr th {\n",
       "        vertical-align: top;\n",
       "    }\n",
       "\n",
       "    .dataframe thead th {\n",
       "        text-align: right;\n",
       "    }\n",
       "</style>\n",
       "<table border=\"1\" class=\"dataframe\">\n",
       "  <thead>\n",
       "    <tr style=\"text-align: right;\">\n",
       "      <th></th>\n",
       "      <th>poisonous</th>\n",
       "      <th>cap-shape</th>\n",
       "      <th>cap-surface</th>\n",
       "      <th>cap-color</th>\n",
       "      <th>bruises</th>\n",
       "      <th>odor</th>\n",
       "      <th>gill-attachment</th>\n",
       "      <th>gill-spacing</th>\n",
       "      <th>gill-size</th>\n",
       "      <th>gill-color</th>\n",
       "      <th>...</th>\n",
       "      <th>stalk-surface-below-ring</th>\n",
       "      <th>stalk-color-above-ring</th>\n",
       "      <th>stalk-color-below-ring</th>\n",
       "      <th>veil-type</th>\n",
       "      <th>veil-color</th>\n",
       "      <th>ring-number</th>\n",
       "      <th>ring-type</th>\n",
       "      <th>spore-print-color</th>\n",
       "      <th>population</th>\n",
       "      <th>habitat</th>\n",
       "    </tr>\n",
       "  </thead>\n",
       "  <tbody>\n",
       "    <tr>\n",
       "      <th>0</th>\n",
       "      <td>p</td>\n",
       "      <td>x</td>\n",
       "      <td>s</td>\n",
       "      <td>n</td>\n",
       "      <td>t</td>\n",
       "      <td>p</td>\n",
       "      <td>f</td>\n",
       "      <td>c</td>\n",
       "      <td>n</td>\n",
       "      <td>k</td>\n",
       "      <td>...</td>\n",
       "      <td>s</td>\n",
       "      <td>w</td>\n",
       "      <td>w</td>\n",
       "      <td>p</td>\n",
       "      <td>w</td>\n",
       "      <td>o</td>\n",
       "      <td>p</td>\n",
       "      <td>k</td>\n",
       "      <td>s</td>\n",
       "      <td>u</td>\n",
       "    </tr>\n",
       "    <tr>\n",
       "      <th>1</th>\n",
       "      <td>e</td>\n",
       "      <td>x</td>\n",
       "      <td>s</td>\n",
       "      <td>y</td>\n",
       "      <td>t</td>\n",
       "      <td>a</td>\n",
       "      <td>f</td>\n",
       "      <td>c</td>\n",
       "      <td>b</td>\n",
       "      <td>k</td>\n",
       "      <td>...</td>\n",
       "      <td>s</td>\n",
       "      <td>w</td>\n",
       "      <td>w</td>\n",
       "      <td>p</td>\n",
       "      <td>w</td>\n",
       "      <td>o</td>\n",
       "      <td>p</td>\n",
       "      <td>n</td>\n",
       "      <td>n</td>\n",
       "      <td>g</td>\n",
       "    </tr>\n",
       "    <tr>\n",
       "      <th>2</th>\n",
       "      <td>e</td>\n",
       "      <td>b</td>\n",
       "      <td>s</td>\n",
       "      <td>w</td>\n",
       "      <td>t</td>\n",
       "      <td>l</td>\n",
       "      <td>f</td>\n",
       "      <td>c</td>\n",
       "      <td>b</td>\n",
       "      <td>n</td>\n",
       "      <td>...</td>\n",
       "      <td>s</td>\n",
       "      <td>w</td>\n",
       "      <td>w</td>\n",
       "      <td>p</td>\n",
       "      <td>w</td>\n",
       "      <td>o</td>\n",
       "      <td>p</td>\n",
       "      <td>n</td>\n",
       "      <td>n</td>\n",
       "      <td>m</td>\n",
       "    </tr>\n",
       "    <tr>\n",
       "      <th>3</th>\n",
       "      <td>p</td>\n",
       "      <td>x</td>\n",
       "      <td>y</td>\n",
       "      <td>w</td>\n",
       "      <td>t</td>\n",
       "      <td>p</td>\n",
       "      <td>f</td>\n",
       "      <td>c</td>\n",
       "      <td>n</td>\n",
       "      <td>n</td>\n",
       "      <td>...</td>\n",
       "      <td>s</td>\n",
       "      <td>w</td>\n",
       "      <td>w</td>\n",
       "      <td>p</td>\n",
       "      <td>w</td>\n",
       "      <td>o</td>\n",
       "      <td>p</td>\n",
       "      <td>k</td>\n",
       "      <td>s</td>\n",
       "      <td>u</td>\n",
       "    </tr>\n",
       "    <tr>\n",
       "      <th>4</th>\n",
       "      <td>e</td>\n",
       "      <td>x</td>\n",
       "      <td>s</td>\n",
       "      <td>g</td>\n",
       "      <td>f</td>\n",
       "      <td>n</td>\n",
       "      <td>f</td>\n",
       "      <td>w</td>\n",
       "      <td>b</td>\n",
       "      <td>k</td>\n",
       "      <td>...</td>\n",
       "      <td>s</td>\n",
       "      <td>w</td>\n",
       "      <td>w</td>\n",
       "      <td>p</td>\n",
       "      <td>w</td>\n",
       "      <td>o</td>\n",
       "      <td>e</td>\n",
       "      <td>n</td>\n",
       "      <td>a</td>\n",
       "      <td>g</td>\n",
       "    </tr>\n",
       "  </tbody>\n",
       "</table>\n",
       "<p>5 rows × 23 columns</p>\n",
       "</div>"
      ],
      "text/plain": [
       "  poisonous cap-shape cap-surface cap-color bruises odor gill-attachment  \\\n",
       "0         p         x           s         n       t    p               f   \n",
       "1         e         x           s         y       t    a               f   \n",
       "2         e         b           s         w       t    l               f   \n",
       "3         p         x           y         w       t    p               f   \n",
       "4         e         x           s         g       f    n               f   \n",
       "\n",
       "  gill-spacing gill-size gill-color  ... stalk-surface-below-ring  \\\n",
       "0            c         n          k  ...                        s   \n",
       "1            c         b          k  ...                        s   \n",
       "2            c         b          n  ...                        s   \n",
       "3            c         n          n  ...                        s   \n",
       "4            w         b          k  ...                        s   \n",
       "\n",
       "  stalk-color-above-ring stalk-color-below-ring veil-type veil-color  \\\n",
       "0                      w                      w         p          w   \n",
       "1                      w                      w         p          w   \n",
       "2                      w                      w         p          w   \n",
       "3                      w                      w         p          w   \n",
       "4                      w                      w         p          w   \n",
       "\n",
       "  ring-number ring-type spore-print-color population habitat  \n",
       "0           o         p                 k          s       u  \n",
       "1           o         p                 n          n       g  \n",
       "2           o         p                 n          n       m  \n",
       "3           o         p                 k          s       u  \n",
       "4           o         e                 n          a       g  \n",
       "\n",
       "[5 rows x 23 columns]"
      ]
     },
     "execution_count": 4,
     "metadata": {},
     "output_type": "execute_result"
    }
   ],
   "source": [
    "data.head()"
   ]
  },
  {
   "cell_type": "code",
   "execution_count": 5,
   "id": "ff892923",
   "metadata": {},
   "outputs": [],
   "source": [
    "X=data.loc[ : ,'cap-shape' : ]\n",
    "y=data.loc[ : , 'poisonous']"
   ]
  },
  {
   "cell_type": "markdown",
   "id": "679891b7",
   "metadata": {},
   "source": [
    "## 인코딩\n",
    "- 글자 데이터를 수치 데이터로 변환하는 작업"
   ]
  },
  {
   "cell_type": "markdown",
   "id": "3c5d28b0",
   "metadata": {},
   "source": [
    "### Label 인코딩"
   ]
  },
  {
   "cell_type": "code",
   "execution_count": 6,
   "id": "72ae7a88",
   "metadata": {},
   "outputs": [],
   "source": [
    "X1=X.copy() #안에 있는 값만 가져올때"
   ]
  },
  {
   "cell_type": "code",
   "execution_count": 7,
   "id": "5d6c9488",
   "metadata": {},
   "outputs": [
    {
     "data": {
      "text/plain": [
       "array(['x', 'b', 's', 'f', 'k', 'c'], dtype=object)"
      ]
     },
     "execution_count": 7,
     "metadata": {},
     "output_type": "execute_result"
    }
   ],
   "source": [
    "X1['cap-shape'].unique() #중복제거 후 출력"
   ]
  },
  {
   "cell_type": "code",
   "execution_count": 8,
   "id": "cedea205",
   "metadata": {},
   "outputs": [],
   "source": [
    "X1['cap-shape']=X1['cap-shape'].map({\"x\":0, \"f\":1, \"k\":2, \"b\":3, \"s\":4, \"c\":5})"
   ]
  },
  {
   "cell_type": "markdown",
   "id": "2a3c277f",
   "metadata": {},
   "source": [
    "### Onehot 인코딩"
   ]
  },
  {
   "cell_type": "code",
   "execution_count": 9,
   "id": "cd655376",
   "metadata": {},
   "outputs": [],
   "source": [
    "X2 = X.copy()"
   ]
  },
  {
   "cell_type": "code",
   "execution_count": 10,
   "id": "35a01e9f",
   "metadata": {},
   "outputs": [
    {
     "data": {
      "text/html": [
       "<div>\n",
       "<style scoped>\n",
       "    .dataframe tbody tr th:only-of-type {\n",
       "        vertical-align: middle;\n",
       "    }\n",
       "\n",
       "    .dataframe tbody tr th {\n",
       "        vertical-align: top;\n",
       "    }\n",
       "\n",
       "    .dataframe thead th {\n",
       "        text-align: right;\n",
       "    }\n",
       "</style>\n",
       "<table border=\"1\" class=\"dataframe\">\n",
       "  <thead>\n",
       "    <tr style=\"text-align: right;\">\n",
       "      <th></th>\n",
       "      <th>cap-shape_b</th>\n",
       "      <th>cap-shape_c</th>\n",
       "      <th>cap-shape_f</th>\n",
       "      <th>cap-shape_k</th>\n",
       "      <th>cap-shape_s</th>\n",
       "      <th>cap-shape_x</th>\n",
       "      <th>cap-surface_f</th>\n",
       "      <th>cap-surface_g</th>\n",
       "      <th>cap-surface_s</th>\n",
       "      <th>cap-surface_y</th>\n",
       "      <th>...</th>\n",
       "      <th>population_s</th>\n",
       "      <th>population_v</th>\n",
       "      <th>population_y</th>\n",
       "      <th>habitat_d</th>\n",
       "      <th>habitat_g</th>\n",
       "      <th>habitat_l</th>\n",
       "      <th>habitat_m</th>\n",
       "      <th>habitat_p</th>\n",
       "      <th>habitat_u</th>\n",
       "      <th>habitat_w</th>\n",
       "    </tr>\n",
       "  </thead>\n",
       "  <tbody>\n",
       "    <tr>\n",
       "      <th>0</th>\n",
       "      <td>0</td>\n",
       "      <td>0</td>\n",
       "      <td>0</td>\n",
       "      <td>0</td>\n",
       "      <td>0</td>\n",
       "      <td>1</td>\n",
       "      <td>0</td>\n",
       "      <td>0</td>\n",
       "      <td>1</td>\n",
       "      <td>0</td>\n",
       "      <td>...</td>\n",
       "      <td>1</td>\n",
       "      <td>0</td>\n",
       "      <td>0</td>\n",
       "      <td>0</td>\n",
       "      <td>0</td>\n",
       "      <td>0</td>\n",
       "      <td>0</td>\n",
       "      <td>0</td>\n",
       "      <td>1</td>\n",
       "      <td>0</td>\n",
       "    </tr>\n",
       "    <tr>\n",
       "      <th>1</th>\n",
       "      <td>0</td>\n",
       "      <td>0</td>\n",
       "      <td>0</td>\n",
       "      <td>0</td>\n",
       "      <td>0</td>\n",
       "      <td>1</td>\n",
       "      <td>0</td>\n",
       "      <td>0</td>\n",
       "      <td>1</td>\n",
       "      <td>0</td>\n",
       "      <td>...</td>\n",
       "      <td>0</td>\n",
       "      <td>0</td>\n",
       "      <td>0</td>\n",
       "      <td>0</td>\n",
       "      <td>1</td>\n",
       "      <td>0</td>\n",
       "      <td>0</td>\n",
       "      <td>0</td>\n",
       "      <td>0</td>\n",
       "      <td>0</td>\n",
       "    </tr>\n",
       "    <tr>\n",
       "      <th>2</th>\n",
       "      <td>1</td>\n",
       "      <td>0</td>\n",
       "      <td>0</td>\n",
       "      <td>0</td>\n",
       "      <td>0</td>\n",
       "      <td>0</td>\n",
       "      <td>0</td>\n",
       "      <td>0</td>\n",
       "      <td>1</td>\n",
       "      <td>0</td>\n",
       "      <td>...</td>\n",
       "      <td>0</td>\n",
       "      <td>0</td>\n",
       "      <td>0</td>\n",
       "      <td>0</td>\n",
       "      <td>0</td>\n",
       "      <td>0</td>\n",
       "      <td>1</td>\n",
       "      <td>0</td>\n",
       "      <td>0</td>\n",
       "      <td>0</td>\n",
       "    </tr>\n",
       "    <tr>\n",
       "      <th>3</th>\n",
       "      <td>0</td>\n",
       "      <td>0</td>\n",
       "      <td>0</td>\n",
       "      <td>0</td>\n",
       "      <td>0</td>\n",
       "      <td>1</td>\n",
       "      <td>0</td>\n",
       "      <td>0</td>\n",
       "      <td>0</td>\n",
       "      <td>1</td>\n",
       "      <td>...</td>\n",
       "      <td>1</td>\n",
       "      <td>0</td>\n",
       "      <td>0</td>\n",
       "      <td>0</td>\n",
       "      <td>0</td>\n",
       "      <td>0</td>\n",
       "      <td>0</td>\n",
       "      <td>0</td>\n",
       "      <td>1</td>\n",
       "      <td>0</td>\n",
       "    </tr>\n",
       "    <tr>\n",
       "      <th>4</th>\n",
       "      <td>0</td>\n",
       "      <td>0</td>\n",
       "      <td>0</td>\n",
       "      <td>0</td>\n",
       "      <td>0</td>\n",
       "      <td>1</td>\n",
       "      <td>0</td>\n",
       "      <td>0</td>\n",
       "      <td>1</td>\n",
       "      <td>0</td>\n",
       "      <td>...</td>\n",
       "      <td>0</td>\n",
       "      <td>0</td>\n",
       "      <td>0</td>\n",
       "      <td>0</td>\n",
       "      <td>1</td>\n",
       "      <td>0</td>\n",
       "      <td>0</td>\n",
       "      <td>0</td>\n",
       "      <td>0</td>\n",
       "      <td>0</td>\n",
       "    </tr>\n",
       "  </tbody>\n",
       "</table>\n",
       "<p>5 rows × 117 columns</p>\n",
       "</div>"
      ],
      "text/plain": [
       "   cap-shape_b  cap-shape_c  cap-shape_f  cap-shape_k  cap-shape_s  \\\n",
       "0            0            0            0            0            0   \n",
       "1            0            0            0            0            0   \n",
       "2            1            0            0            0            0   \n",
       "3            0            0            0            0            0   \n",
       "4            0            0            0            0            0   \n",
       "\n",
       "   cap-shape_x  cap-surface_f  cap-surface_g  cap-surface_s  cap-surface_y  \\\n",
       "0            1              0              0              1              0   \n",
       "1            1              0              0              1              0   \n",
       "2            0              0              0              1              0   \n",
       "3            1              0              0              0              1   \n",
       "4            1              0              0              1              0   \n",
       "\n",
       "   ...  population_s  population_v  population_y  habitat_d  habitat_g  \\\n",
       "0  ...             1             0             0          0          0   \n",
       "1  ...             0             0             0          0          1   \n",
       "2  ...             0             0             0          0          0   \n",
       "3  ...             1             0             0          0          0   \n",
       "4  ...             0             0             0          0          1   \n",
       "\n",
       "   habitat_l  habitat_m  habitat_p  habitat_u  habitat_w  \n",
       "0          0          0          0          1          0  \n",
       "1          0          0          0          0          0  \n",
       "2          0          1          0          0          0  \n",
       "3          0          0          0          1          0  \n",
       "4          0          0          0          0          0  \n",
       "\n",
       "[5 rows x 117 columns]"
      ]
     },
     "execution_count": 10,
     "metadata": {},
     "output_type": "execute_result"
    }
   ],
   "source": [
    "# 원핫인코딩할 컬럼 뽑아서 넣어주어야함\n",
    "X_one_hot = pd.get_dummies(X2)\n",
    "X_one_hot.head()"
   ]
  },
  {
   "cell_type": "markdown",
   "id": "ea233a36",
   "metadata": {},
   "source": [
    "## 훈련과 평가로 데이터 분리"
   ]
  },
  {
   "cell_type": "code",
   "execution_count": 11,
   "id": "eeb51cae",
   "metadata": {},
   "outputs": [],
   "source": [
    "from sklearn.model_selection import train_test_split\n",
    "X_train,X_test,y_train, y_test = train_test_split(X_one_hot,y,test_size=0.3)"
   ]
  },
  {
   "cell_type": "code",
   "execution_count": 12,
   "id": "c0b6f7e9",
   "metadata": {},
   "outputs": [],
   "source": [
    "from sklearn.tree import DecisionTreeClassifier\n",
    "tree_model = DecisionTreeClassifier()"
   ]
  },
  {
   "cell_type": "markdown",
   "id": "5647af8c",
   "metadata": {},
   "source": [
    "# 학습"
   ]
  },
  {
   "cell_type": "code",
   "execution_count": 13,
   "id": "e5d6447a",
   "metadata": {},
   "outputs": [
    {
     "data": {
      "text/plain": [
       "DecisionTreeClassifier()"
      ]
     },
     "execution_count": 13,
     "metadata": {},
     "output_type": "execute_result"
    }
   ],
   "source": [
    "tree_model.fit(X_train,y_train)"
   ]
  },
  {
   "cell_type": "markdown",
   "id": "3bd8bcd4",
   "metadata": {},
   "source": [
    "# 평가"
   ]
  },
  {
   "cell_type": "code",
   "execution_count": 14,
   "id": "708cdbba",
   "metadata": {},
   "outputs": [
    {
     "data": {
      "text/plain": [
       "1.0"
      ]
     },
     "execution_count": 14,
     "metadata": {},
     "output_type": "execute_result"
    }
   ],
   "source": [
    "tree_model.score(X_train,y_train)"
   ]
  },
  {
   "cell_type": "code",
   "execution_count": 15,
   "id": "de0387e8",
   "metadata": {},
   "outputs": [
    {
     "data": {
      "text/plain": [
       "1.0"
      ]
     },
     "execution_count": 15,
     "metadata": {},
     "output_type": "execute_result"
    }
   ],
   "source": [
    "tree_model.score(X_test,y_test)"
   ]
  },
  {
   "cell_type": "markdown",
   "id": "ba2fa095",
   "metadata": {},
   "source": [
    "# 시각화"
   ]
  },
  {
   "cell_type": "code",
   "execution_count": 16,
   "id": "5f2a2abc",
   "metadata": {},
   "outputs": [
    {
     "name": "stdout",
     "output_type": "stream",
     "text": [
      "Requirement already satisfied: graphviz in c:\\users\\smhrd\\anaconda3\\lib\\site-packages (0.19.1)\n"
     ]
    }
   ],
   "source": [
    "!pip install graphviz"
   ]
  },
  {
   "cell_type": "code",
   "execution_count": 17,
   "id": "b452b792",
   "metadata": {},
   "outputs": [],
   "source": [
    "import os\n",
    "os.environ[\"PATH\"]+=os.pathsep+'C:/Program Files/Graphviz/bin/'"
   ]
  },
  {
   "cell_type": "code",
   "execution_count": 18,
   "id": "5f5f8454",
   "metadata": {},
   "outputs": [],
   "source": [
    "from sklearn.tree import export_graphviz\n",
    "export_graphviz(tree_model, out_file='tree.dot',\n",
    "               class_names=['p','e'],\n",
    "               feature_names=X_one_hot.columns,\n",
    "               impurity=False,\n",
    "               filled=True)"
   ]
  },
  {
   "cell_type": "code",
   "execution_count": 19,
   "id": "452cc243",
   "metadata": {},
   "outputs": [
    {
     "data": {
      "image/svg+xml": [
       "<?xml version=\"1.0\" encoding=\"UTF-8\" standalone=\"no\"?>\n",
       "<!DOCTYPE svg PUBLIC \"-//W3C//DTD SVG 1.1//EN\"\n",
       " \"http://www.w3.org/Graphics/SVG/1.1/DTD/svg11.dtd\">\n",
       "<!-- Generated by graphviz version 2.50.0 (20211204.2007)\n",
       " -->\n",
       "<!-- Title: Tree Pages: 1 -->\n",
       "<svg width=\"1135pt\" height=\"685pt\"\n",
       " viewBox=\"0.00 0.00 1135.00 685.00\" xmlns=\"http://www.w3.org/2000/svg\" xmlns:xlink=\"http://www.w3.org/1999/xlink\">\n",
       "<g id=\"graph0\" class=\"graph\" transform=\"scale(1 1) rotate(0) translate(4 681)\">\n",
       "<title>Tree</title>\n",
       "<polygon fill=\"white\" stroke=\"transparent\" points=\"-4,4 -4,-681 1131,-681 1131,4 -4,4\"/>\n",
       "<!-- 0 -->\n",
       "<g id=\"node1\" class=\"node\">\n",
       "<title>0</title>\n",
       "<polygon fill=\"#fdf7f3\" stroke=\"black\" points=\"789,-677 658,-677 658,-609 789,-609 789,-677\"/>\n",
       "<text text-anchor=\"middle\" x=\"723.5\" y=\"-661.8\" font-family=\"Times New Roman,serif\" font-size=\"14.00\">odor_n &lt;= 0.5</text>\n",
       "<text text-anchor=\"middle\" x=\"723.5\" y=\"-646.8\" font-family=\"Times New Roman,serif\" font-size=\"14.00\">samples = 5686</text>\n",
       "<text text-anchor=\"middle\" x=\"723.5\" y=\"-631.8\" font-family=\"Times New Roman,serif\" font-size=\"14.00\">value = [2932, 2754]</text>\n",
       "<text text-anchor=\"middle\" x=\"723.5\" y=\"-616.8\" font-family=\"Times New Roman,serif\" font-size=\"14.00\">class = p</text>\n",
       "</g>\n",
       "<!-- 1 -->\n",
       "<g id=\"node2\" class=\"node\">\n",
       "<title>1</title>\n",
       "<polygon fill=\"#61b1ea\" stroke=\"black\" points=\"674,-573 549,-573 549,-505 674,-505 674,-573\"/>\n",
       "<text text-anchor=\"middle\" x=\"611.5\" y=\"-557.8\" font-family=\"Times New Roman,serif\" font-size=\"14.00\">stalk&#45;root_c &lt;= 0.5</text>\n",
       "<text text-anchor=\"middle\" x=\"611.5\" y=\"-542.8\" font-family=\"Times New Roman,serif\" font-size=\"14.00\">samples = 3218</text>\n",
       "<text text-anchor=\"middle\" x=\"611.5\" y=\"-527.8\" font-family=\"Times New Roman,serif\" font-size=\"14.00\">value = [541, 2677]</text>\n",
       "<text text-anchor=\"middle\" x=\"611.5\" y=\"-512.8\" font-family=\"Times New Roman,serif\" font-size=\"14.00\">class = e</text>\n",
       "</g>\n",
       "<!-- 0&#45;&gt;1 -->\n",
       "<g id=\"edge1\" class=\"edge\">\n",
       "<title>0&#45;&gt;1</title>\n",
       "<path fill=\"none\" stroke=\"black\" d=\"M687.14,-608.88C677.06,-599.71 666.02,-589.65 655.56,-580.12\"/>\n",
       "<polygon fill=\"black\" stroke=\"black\" points=\"657.81,-577.44 648.06,-573.3 653.1,-582.62 657.81,-577.44\"/>\n",
       "<text text-anchor=\"middle\" x=\"649.23\" y=\"-594.57\" font-family=\"Times New Roman,serif\" font-size=\"14.00\">True</text>\n",
       "</g>\n",
       "<!-- 14 -->\n",
       "<g id=\"node15\" class=\"node\">\n",
       "<title>14</title>\n",
       "<polygon fill=\"#e6853f\" stroke=\"black\" points=\"918,-573 753,-573 753,-505 918,-505 918,-573\"/>\n",
       "<text text-anchor=\"middle\" x=\"835.5\" y=\"-557.8\" font-family=\"Times New Roman,serif\" font-size=\"14.00\">spore&#45;print&#45;color_r &lt;= 0.5</text>\n",
       "<text text-anchor=\"middle\" x=\"835.5\" y=\"-542.8\" font-family=\"Times New Roman,serif\" font-size=\"14.00\">samples = 2468</text>\n",
       "<text text-anchor=\"middle\" x=\"835.5\" y=\"-527.8\" font-family=\"Times New Roman,serif\" font-size=\"14.00\">value = [2391, 77]</text>\n",
       "<text text-anchor=\"middle\" x=\"835.5\" y=\"-512.8\" font-family=\"Times New Roman,serif\" font-size=\"14.00\">class = p</text>\n",
       "</g>\n",
       "<!-- 0&#45;&gt;14 -->\n",
       "<g id=\"edge14\" class=\"edge\">\n",
       "<title>0&#45;&gt;14</title>\n",
       "<path fill=\"none\" stroke=\"black\" d=\"M759.86,-608.88C769.94,-599.71 780.98,-589.65 791.44,-580.12\"/>\n",
       "<polygon fill=\"black\" stroke=\"black\" points=\"793.9,-582.62 798.94,-573.3 789.19,-577.44 793.9,-582.62\"/>\n",
       "<text text-anchor=\"middle\" x=\"797.77\" y=\"-594.57\" font-family=\"Times New Roman,serif\" font-size=\"14.00\">False</text>\n",
       "</g>\n",
       "<!-- 2 -->\n",
       "<g id=\"node3\" class=\"node\">\n",
       "<title>2</title>\n",
       "<polygon fill=\"#47a4e7\" stroke=\"black\" points=\"490.5,-469 284.5,-469 284.5,-401 490.5,-401 490.5,-469\"/>\n",
       "<text text-anchor=\"middle\" x=\"387.5\" y=\"-453.8\" font-family=\"Times New Roman,serif\" font-size=\"14.00\">stalk&#45;surface&#45;below&#45;ring_y &lt;= 0.5</text>\n",
       "<text text-anchor=\"middle\" x=\"387.5\" y=\"-438.8\" font-family=\"Times New Roman,serif\" font-size=\"14.00\">samples = 2846</text>\n",
       "<text text-anchor=\"middle\" x=\"387.5\" y=\"-423.8\" font-family=\"Times New Roman,serif\" font-size=\"14.00\">value = [193, 2653]</text>\n",
       "<text text-anchor=\"middle\" x=\"387.5\" y=\"-408.8\" font-family=\"Times New Roman,serif\" font-size=\"14.00\">class = e</text>\n",
       "</g>\n",
       "<!-- 1&#45;&gt;2 -->\n",
       "<g id=\"edge2\" class=\"edge\">\n",
       "<title>1&#45;&gt;2</title>\n",
       "<path fill=\"none\" stroke=\"black\" d=\"M548.81,-509.45C524.15,-498.22 495.5,-485.18 469.25,-473.23\"/>\n",
       "<polygon fill=\"black\" stroke=\"black\" points=\"470.63,-470.01 460.08,-469.05 467.73,-476.38 470.63,-470.01\"/>\n",
       "</g>\n",
       "<!-- 11 -->\n",
       "<g id=\"node12\" class=\"node\">\n",
       "<title>11</title>\n",
       "<polygon fill=\"#e78a47\" stroke=\"black\" points=\"714.5,-469 508.5,-469 508.5,-401 714.5,-401 714.5,-469\"/>\n",
       "<text text-anchor=\"middle\" x=\"611.5\" y=\"-453.8\" font-family=\"Times New Roman,serif\" font-size=\"14.00\">stalk&#45;surface&#45;below&#45;ring_s &lt;= 0.5</text>\n",
       "<text text-anchor=\"middle\" x=\"611.5\" y=\"-438.8\" font-family=\"Times New Roman,serif\" font-size=\"14.00\">samples = 372</text>\n",
       "<text text-anchor=\"middle\" x=\"611.5\" y=\"-423.8\" font-family=\"Times New Roman,serif\" font-size=\"14.00\">value = [348, 24]</text>\n",
       "<text text-anchor=\"middle\" x=\"611.5\" y=\"-408.8\" font-family=\"Times New Roman,serif\" font-size=\"14.00\">class = p</text>\n",
       "</g>\n",
       "<!-- 1&#45;&gt;11 -->\n",
       "<g id=\"edge11\" class=\"edge\">\n",
       "<title>1&#45;&gt;11</title>\n",
       "<path fill=\"none\" stroke=\"black\" d=\"M611.5,-504.88C611.5,-496.78 611.5,-487.98 611.5,-479.47\"/>\n",
       "<polygon fill=\"black\" stroke=\"black\" points=\"615,-479.3 611.5,-469.3 608,-479.3 615,-479.3\"/>\n",
       "</g>\n",
       "<!-- 3 -->\n",
       "<g id=\"node4\" class=\"node\">\n",
       "<title>3</title>\n",
       "<polygon fill=\"#3ea0e6\" stroke=\"black\" points=\"326,-365 159,-365 159,-297 326,-297 326,-365\"/>\n",
       "<text text-anchor=\"middle\" x=\"242.5\" y=\"-349.8\" font-family=\"Times New Roman,serif\" font-size=\"14.00\">spore&#45;print&#45;color_u &lt;= 0.5</text>\n",
       "<text text-anchor=\"middle\" x=\"242.5\" y=\"-334.8\" font-family=\"Times New Roman,serif\" font-size=\"14.00\">samples = 2722</text>\n",
       "<text text-anchor=\"middle\" x=\"242.5\" y=\"-319.8\" font-family=\"Times New Roman,serif\" font-size=\"14.00\">value = [69, 2653]</text>\n",
       "<text text-anchor=\"middle\" x=\"242.5\" y=\"-304.8\" font-family=\"Times New Roman,serif\" font-size=\"14.00\">class = e</text>\n",
       "</g>\n",
       "<!-- 2&#45;&gt;3 -->\n",
       "<g id=\"edge3\" class=\"edge\">\n",
       "<title>2&#45;&gt;3</title>\n",
       "<path fill=\"none\" stroke=\"black\" d=\"M340.42,-400.88C327,-391.44 312.25,-381.06 298.36,-371.29\"/>\n",
       "<polygon fill=\"black\" stroke=\"black\" points=\"300.03,-368.19 289.84,-365.3 296,-373.92 300.03,-368.19\"/>\n",
       "</g>\n",
       "<!-- 10 -->\n",
       "<g id=\"node11\" class=\"node\">\n",
       "<title>10</title>\n",
       "<polygon fill=\"#e58139\" stroke=\"black\" points=\"448.5,-357.5 344.5,-357.5 344.5,-304.5 448.5,-304.5 448.5,-357.5\"/>\n",
       "<text text-anchor=\"middle\" x=\"396.5\" y=\"-342.3\" font-family=\"Times New Roman,serif\" font-size=\"14.00\">samples = 124</text>\n",
       "<text text-anchor=\"middle\" x=\"396.5\" y=\"-327.3\" font-family=\"Times New Roman,serif\" font-size=\"14.00\">value = [124, 0]</text>\n",
       "<text text-anchor=\"middle\" x=\"396.5\" y=\"-312.3\" font-family=\"Times New Roman,serif\" font-size=\"14.00\">class = p</text>\n",
       "</g>\n",
       "<!-- 2&#45;&gt;10 -->\n",
       "<g id=\"edge10\" class=\"edge\">\n",
       "<title>2&#45;&gt;10</title>\n",
       "<path fill=\"none\" stroke=\"black\" d=\"M390.42,-400.88C391.36,-390.22 392.41,-378.35 393.37,-367.52\"/>\n",
       "<polygon fill=\"black\" stroke=\"black\" points=\"396.86,-367.79 394.25,-357.52 389.88,-367.17 396.86,-367.79\"/>\n",
       "</g>\n",
       "<!-- 4 -->\n",
       "<g id=\"node5\" class=\"node\">\n",
       "<title>4</title>\n",
       "<polygon fill=\"#3b9ee5\" stroke=\"black\" points=\"238.5,-261 120.5,-261 120.5,-193 238.5,-193 238.5,-261\"/>\n",
       "<text text-anchor=\"middle\" x=\"179.5\" y=\"-245.8\" font-family=\"Times New Roman,serif\" font-size=\"14.00\">odor_a &lt;= 0.5</text>\n",
       "<text text-anchor=\"middle\" x=\"179.5\" y=\"-230.8\" font-family=\"Times New Roman,serif\" font-size=\"14.00\">samples = 2686</text>\n",
       "<text text-anchor=\"middle\" x=\"179.5\" y=\"-215.8\" font-family=\"Times New Roman,serif\" font-size=\"14.00\">value = [33, 2653]</text>\n",
       "<text text-anchor=\"middle\" x=\"179.5\" y=\"-200.8\" font-family=\"Times New Roman,serif\" font-size=\"14.00\">class = e</text>\n",
       "</g>\n",
       "<!-- 3&#45;&gt;4 -->\n",
       "<g id=\"edge4\" class=\"edge\">\n",
       "<title>3&#45;&gt;4</title>\n",
       "<path fill=\"none\" stroke=\"black\" d=\"M222.05,-296.88C216.76,-288.33 211.01,-279.01 205.49,-270.07\"/>\n",
       "<polygon fill=\"black\" stroke=\"black\" points=\"208.3,-267.97 200.07,-261.3 202.34,-271.65 208.3,-267.97\"/>\n",
       "</g>\n",
       "<!-- 9 -->\n",
       "<g id=\"node10\" class=\"node\">\n",
       "<title>9</title>\n",
       "<polygon fill=\"#e58139\" stroke=\"black\" points=\"354.5,-253.5 256.5,-253.5 256.5,-200.5 354.5,-200.5 354.5,-253.5\"/>\n",
       "<text text-anchor=\"middle\" x=\"305.5\" y=\"-238.3\" font-family=\"Times New Roman,serif\" font-size=\"14.00\">samples = 36</text>\n",
       "<text text-anchor=\"middle\" x=\"305.5\" y=\"-223.3\" font-family=\"Times New Roman,serif\" font-size=\"14.00\">value = [36, 0]</text>\n",
       "<text text-anchor=\"middle\" x=\"305.5\" y=\"-208.3\" font-family=\"Times New Roman,serif\" font-size=\"14.00\">class = p</text>\n",
       "</g>\n",
       "<!-- 3&#45;&gt;9 -->\n",
       "<g id=\"edge9\" class=\"edge\">\n",
       "<title>3&#45;&gt;9</title>\n",
       "<path fill=\"none\" stroke=\"black\" d=\"M262.95,-296.88C269.82,-285.78 277.48,-273.37 284.39,-262.18\"/>\n",
       "<polygon fill=\"black\" stroke=\"black\" points=\"287.46,-263.87 289.74,-253.52 281.5,-260.19 287.46,-263.87\"/>\n",
       "</g>\n",
       "<!-- 5 -->\n",
       "<g id=\"node6\" class=\"node\">\n",
       "<title>5</title>\n",
       "<polygon fill=\"#3a9ee5\" stroke=\"black\" points=\"175.5,-157 57.5,-157 57.5,-89 175.5,-89 175.5,-157\"/>\n",
       "<text text-anchor=\"middle\" x=\"116.5\" y=\"-141.8\" font-family=\"Times New Roman,serif\" font-size=\"14.00\">odor_l &lt;= 0.5</text>\n",
       "<text text-anchor=\"middle\" x=\"116.5\" y=\"-126.8\" font-family=\"Times New Roman,serif\" font-size=\"14.00\">samples = 2669</text>\n",
       "<text text-anchor=\"middle\" x=\"116.5\" y=\"-111.8\" font-family=\"Times New Roman,serif\" font-size=\"14.00\">value = [16, 2653]</text>\n",
       "<text text-anchor=\"middle\" x=\"116.5\" y=\"-96.8\" font-family=\"Times New Roman,serif\" font-size=\"14.00\">class = e</text>\n",
       "</g>\n",
       "<!-- 4&#45;&gt;5 -->\n",
       "<g id=\"edge5\" class=\"edge\">\n",
       "<title>4&#45;&gt;5</title>\n",
       "<path fill=\"none\" stroke=\"black\" d=\"M159.05,-192.88C153.76,-184.33 148.01,-175.01 142.49,-166.07\"/>\n",
       "<polygon fill=\"black\" stroke=\"black\" points=\"145.3,-163.97 137.07,-157.3 139.34,-167.65 145.3,-163.97\"/>\n",
       "</g>\n",
       "<!-- 8 -->\n",
       "<g id=\"node9\" class=\"node\">\n",
       "<title>8</title>\n",
       "<polygon fill=\"#e58139\" stroke=\"black\" points=\"291.5,-149.5 193.5,-149.5 193.5,-96.5 291.5,-96.5 291.5,-149.5\"/>\n",
       "<text text-anchor=\"middle\" x=\"242.5\" y=\"-134.3\" font-family=\"Times New Roman,serif\" font-size=\"14.00\">samples = 17</text>\n",
       "<text text-anchor=\"middle\" x=\"242.5\" y=\"-119.3\" font-family=\"Times New Roman,serif\" font-size=\"14.00\">value = [17, 0]</text>\n",
       "<text text-anchor=\"middle\" x=\"242.5\" y=\"-104.3\" font-family=\"Times New Roman,serif\" font-size=\"14.00\">class = p</text>\n",
       "</g>\n",
       "<!-- 4&#45;&gt;8 -->\n",
       "<g id=\"edge8\" class=\"edge\">\n",
       "<title>4&#45;&gt;8</title>\n",
       "<path fill=\"none\" stroke=\"black\" d=\"M199.95,-192.88C206.82,-181.78 214.48,-169.37 221.39,-158.18\"/>\n",
       "<polygon fill=\"black\" stroke=\"black\" points=\"224.46,-159.87 226.74,-149.52 218.5,-156.19 224.46,-159.87\"/>\n",
       "</g>\n",
       "<!-- 6 -->\n",
       "<g id=\"node7\" class=\"node\">\n",
       "<title>6</title>\n",
       "<polygon fill=\"#399de5\" stroke=\"black\" points=\"111,-53 0,-53 0,0 111,0 111,-53\"/>\n",
       "<text text-anchor=\"middle\" x=\"55.5\" y=\"-37.8\" font-family=\"Times New Roman,serif\" font-size=\"14.00\">samples = 2653</text>\n",
       "<text text-anchor=\"middle\" x=\"55.5\" y=\"-22.8\" font-family=\"Times New Roman,serif\" font-size=\"14.00\">value = [0, 2653]</text>\n",
       "<text text-anchor=\"middle\" x=\"55.5\" y=\"-7.8\" font-family=\"Times New Roman,serif\" font-size=\"14.00\">class = e</text>\n",
       "</g>\n",
       "<!-- 5&#45;&gt;6 -->\n",
       "<g id=\"edge6\" class=\"edge\">\n",
       "<title>5&#45;&gt;6</title>\n",
       "<path fill=\"none\" stroke=\"black\" d=\"M95.17,-88.95C89.5,-80.17 83.36,-70.66 77.65,-61.82\"/>\n",
       "<polygon fill=\"black\" stroke=\"black\" points=\"80.48,-59.74 72.11,-53.24 74.6,-63.54 80.48,-59.74\"/>\n",
       "</g>\n",
       "<!-- 7 -->\n",
       "<g id=\"node8\" class=\"node\">\n",
       "<title>7</title>\n",
       "<polygon fill=\"#e58139\" stroke=\"black\" points=\"227.5,-53 129.5,-53 129.5,0 227.5,0 227.5,-53\"/>\n",
       "<text text-anchor=\"middle\" x=\"178.5\" y=\"-37.8\" font-family=\"Times New Roman,serif\" font-size=\"14.00\">samples = 16</text>\n",
       "<text text-anchor=\"middle\" x=\"178.5\" y=\"-22.8\" font-family=\"Times New Roman,serif\" font-size=\"14.00\">value = [16, 0]</text>\n",
       "<text text-anchor=\"middle\" x=\"178.5\" y=\"-7.8\" font-family=\"Times New Roman,serif\" font-size=\"14.00\">class = p</text>\n",
       "</g>\n",
       "<!-- 5&#45;&gt;7 -->\n",
       "<g id=\"edge7\" class=\"edge\">\n",
       "<title>5&#45;&gt;7</title>\n",
       "<path fill=\"none\" stroke=\"black\" d=\"M138.18,-88.95C143.95,-80.17 150.18,-70.66 155.99,-61.82\"/>\n",
       "<polygon fill=\"black\" stroke=\"black\" points=\"159.06,-63.52 161.61,-53.24 153.2,-59.68 159.06,-63.52\"/>\n",
       "</g>\n",
       "<!-- 12 -->\n",
       "<g id=\"node13\" class=\"node\">\n",
       "<title>12</title>\n",
       "<polygon fill=\"#399de5\" stroke=\"black\" points=\"599.5,-357.5 501.5,-357.5 501.5,-304.5 599.5,-304.5 599.5,-357.5\"/>\n",
       "<text text-anchor=\"middle\" x=\"550.5\" y=\"-342.3\" font-family=\"Times New Roman,serif\" font-size=\"14.00\">samples = 24</text>\n",
       "<text text-anchor=\"middle\" x=\"550.5\" y=\"-327.3\" font-family=\"Times New Roman,serif\" font-size=\"14.00\">value = [0, 24]</text>\n",
       "<text text-anchor=\"middle\" x=\"550.5\" y=\"-312.3\" font-family=\"Times New Roman,serif\" font-size=\"14.00\">class = e</text>\n",
       "</g>\n",
       "<!-- 11&#45;&gt;12 -->\n",
       "<g id=\"edge12\" class=\"edge\">\n",
       "<title>11&#45;&gt;12</title>\n",
       "<path fill=\"none\" stroke=\"black\" d=\"M591.7,-400.88C585.05,-389.78 577.63,-377.37 570.94,-366.18\"/>\n",
       "<polygon fill=\"black\" stroke=\"black\" points=\"573.9,-364.31 565.76,-357.52 567.89,-367.9 573.9,-364.31\"/>\n",
       "</g>\n",
       "<!-- 13 -->\n",
       "<g id=\"node14\" class=\"node\">\n",
       "<title>13</title>\n",
       "<polygon fill=\"#e58139\" stroke=\"black\" points=\"721.5,-357.5 617.5,-357.5 617.5,-304.5 721.5,-304.5 721.5,-357.5\"/>\n",
       "<text text-anchor=\"middle\" x=\"669.5\" y=\"-342.3\" font-family=\"Times New Roman,serif\" font-size=\"14.00\">samples = 348</text>\n",
       "<text text-anchor=\"middle\" x=\"669.5\" y=\"-327.3\" font-family=\"Times New Roman,serif\" font-size=\"14.00\">value = [348, 0]</text>\n",
       "<text text-anchor=\"middle\" x=\"669.5\" y=\"-312.3\" font-family=\"Times New Roman,serif\" font-size=\"14.00\">class = p</text>\n",
       "</g>\n",
       "<!-- 11&#45;&gt;13 -->\n",
       "<g id=\"edge13\" class=\"edge\">\n",
       "<title>11&#45;&gt;13</title>\n",
       "<path fill=\"none\" stroke=\"black\" d=\"M630.33,-400.88C636.58,-389.89 643.56,-377.62 649.87,-366.52\"/>\n",
       "<polygon fill=\"black\" stroke=\"black\" points=\"653.09,-367.94 654.99,-357.52 647,-364.48 653.09,-367.94\"/>\n",
       "</g>\n",
       "<!-- 15 -->\n",
       "<g id=\"node16\" class=\"node\">\n",
       "<title>15</title>\n",
       "<polygon fill=\"#e5833c\" stroke=\"black\" points=\"938.5,-469 732.5,-469 732.5,-401 938.5,-401 938.5,-469\"/>\n",
       "<text text-anchor=\"middle\" x=\"835.5\" y=\"-453.8\" font-family=\"Times New Roman,serif\" font-size=\"14.00\">stalk&#45;surface&#45;below&#45;ring_y &lt;= 0.5</text>\n",
       "<text text-anchor=\"middle\" x=\"835.5\" y=\"-438.8\" font-family=\"Times New Roman,serif\" font-size=\"14.00\">samples = 2422</text>\n",
       "<text text-anchor=\"middle\" x=\"835.5\" y=\"-423.8\" font-family=\"Times New Roman,serif\" font-size=\"14.00\">value = [2391, 31]</text>\n",
       "<text text-anchor=\"middle\" x=\"835.5\" y=\"-408.8\" font-family=\"Times New Roman,serif\" font-size=\"14.00\">class = p</text>\n",
       "</g>\n",
       "<!-- 14&#45;&gt;15 -->\n",
       "<g id=\"edge15\" class=\"edge\">\n",
       "<title>14&#45;&gt;15</title>\n",
       "<path fill=\"none\" stroke=\"black\" d=\"M835.5,-504.88C835.5,-496.78 835.5,-487.98 835.5,-479.47\"/>\n",
       "<polygon fill=\"black\" stroke=\"black\" points=\"839,-479.3 835.5,-469.3 832,-479.3 839,-479.3\"/>\n",
       "</g>\n",
       "<!-- 26 -->\n",
       "<g id=\"node27\" class=\"node\">\n",
       "<title>26</title>\n",
       "<polygon fill=\"#399de5\" stroke=\"black\" points=\"1054.5,-461.5 956.5,-461.5 956.5,-408.5 1054.5,-408.5 1054.5,-461.5\"/>\n",
       "<text text-anchor=\"middle\" x=\"1005.5\" y=\"-446.3\" font-family=\"Times New Roman,serif\" font-size=\"14.00\">samples = 46</text>\n",
       "<text text-anchor=\"middle\" x=\"1005.5\" y=\"-431.3\" font-family=\"Times New Roman,serif\" font-size=\"14.00\">value = [0, 46]</text>\n",
       "<text text-anchor=\"middle\" x=\"1005.5\" y=\"-416.3\" font-family=\"Times New Roman,serif\" font-size=\"14.00\">class = e</text>\n",
       "</g>\n",
       "<!-- 14&#45;&gt;26 -->\n",
       "<g id=\"edge26\" class=\"edge\">\n",
       "<title>14&#45;&gt;26</title>\n",
       "<path fill=\"none\" stroke=\"black\" d=\"M890.69,-504.88C911.13,-492.62 934.2,-478.78 954.27,-466.74\"/>\n",
       "<polygon fill=\"black\" stroke=\"black\" points=\"956.19,-469.67 962.97,-461.52 952.59,-463.66 956.19,-469.67\"/>\n",
       "</g>\n",
       "<!-- 16 -->\n",
       "<g id=\"node17\" class=\"node\">\n",
       "<title>16</title>\n",
       "<polygon fill=\"#e58139\" stroke=\"black\" points=\"895,-365 758,-365 758,-297 895,-297 895,-365\"/>\n",
       "<text text-anchor=\"middle\" x=\"826.5\" y=\"-349.8\" font-family=\"Times New Roman,serif\" font-size=\"14.00\">cap&#45;surface_g &lt;= 0.5</text>\n",
       "<text text-anchor=\"middle\" x=\"826.5\" y=\"-334.8\" font-family=\"Times New Roman,serif\" font-size=\"14.00\">samples = 2387</text>\n",
       "<text text-anchor=\"middle\" x=\"826.5\" y=\"-319.8\" font-family=\"Times New Roman,serif\" font-size=\"14.00\">value = [2382, 5]</text>\n",
       "<text text-anchor=\"middle\" x=\"826.5\" y=\"-304.8\" font-family=\"Times New Roman,serif\" font-size=\"14.00\">class = p</text>\n",
       "</g>\n",
       "<!-- 15&#45;&gt;16 -->\n",
       "<g id=\"edge16\" class=\"edge\">\n",
       "<title>15&#45;&gt;16</title>\n",
       "<path fill=\"none\" stroke=\"black\" d=\"M832.58,-400.88C831.86,-392.78 831.09,-383.98 830.34,-375.47\"/>\n",
       "<polygon fill=\"black\" stroke=\"black\" points=\"833.8,-374.95 829.44,-365.3 826.83,-375.57 833.8,-374.95\"/>\n",
       "</g>\n",
       "<!-- 23 -->\n",
       "<g id=\"node24\" class=\"node\">\n",
       "<title>23</title>\n",
       "<polygon fill=\"#7ebfee\" stroke=\"black\" points=\"1044,-365 913,-365 913,-297 1044,-297 1044,-365\"/>\n",
       "<text text-anchor=\"middle\" x=\"978.5\" y=\"-349.8\" font-family=\"Times New Roman,serif\" font-size=\"14.00\">population_y &lt;= 0.5</text>\n",
       "<text text-anchor=\"middle\" x=\"978.5\" y=\"-334.8\" font-family=\"Times New Roman,serif\" font-size=\"14.00\">samples = 35</text>\n",
       "<text text-anchor=\"middle\" x=\"978.5\" y=\"-319.8\" font-family=\"Times New Roman,serif\" font-size=\"14.00\">value = [9, 26]</text>\n",
       "<text text-anchor=\"middle\" x=\"978.5\" y=\"-304.8\" font-family=\"Times New Roman,serif\" font-size=\"14.00\">class = e</text>\n",
       "</g>\n",
       "<!-- 15&#45;&gt;23 -->\n",
       "<g id=\"edge23\" class=\"edge\">\n",
       "<title>15&#45;&gt;23</title>\n",
       "<path fill=\"none\" stroke=\"black\" d=\"M881.93,-400.88C895.17,-391.44 909.71,-381.06 923.41,-371.29\"/>\n",
       "<polygon fill=\"black\" stroke=\"black\" points=\"925.71,-373.96 931.82,-365.3 921.64,-368.26 925.71,-373.96\"/>\n",
       "</g>\n",
       "<!-- 17 -->\n",
       "<g id=\"node18\" class=\"node\">\n",
       "<title>17</title>\n",
       "<polygon fill=\"#e58139\" stroke=\"black\" points=\"773,-261 660,-261 660,-193 773,-193 773,-261\"/>\n",
       "<text text-anchor=\"middle\" x=\"716.5\" y=\"-245.8\" font-family=\"Times New Roman,serif\" font-size=\"14.00\">gill&#45;size_n &lt;= 0.5</text>\n",
       "<text text-anchor=\"middle\" x=\"716.5\" y=\"-230.8\" font-family=\"Times New Roman,serif\" font-size=\"14.00\">samples = 2384</text>\n",
       "<text text-anchor=\"middle\" x=\"716.5\" y=\"-215.8\" font-family=\"Times New Roman,serif\" font-size=\"14.00\">value = [2382, 2]</text>\n",
       "<text text-anchor=\"middle\" x=\"716.5\" y=\"-200.8\" font-family=\"Times New Roman,serif\" font-size=\"14.00\">class = p</text>\n",
       "</g>\n",
       "<!-- 16&#45;&gt;17 -->\n",
       "<g id=\"edge17\" class=\"edge\">\n",
       "<title>16&#45;&gt;17</title>\n",
       "<path fill=\"none\" stroke=\"black\" d=\"M790.79,-296.88C780.89,-287.71 770.04,-277.65 759.77,-268.12\"/>\n",
       "<polygon fill=\"black\" stroke=\"black\" points=\"762.12,-265.53 752.41,-261.3 757.36,-270.67 762.12,-265.53\"/>\n",
       "</g>\n",
       "<!-- 22 -->\n",
       "<g id=\"node23\" class=\"node\">\n",
       "<title>22</title>\n",
       "<polygon fill=\"#399de5\" stroke=\"black\" points=\"882,-253.5 791,-253.5 791,-200.5 882,-200.5 882,-253.5\"/>\n",
       "<text text-anchor=\"middle\" x=\"836.5\" y=\"-238.3\" font-family=\"Times New Roman,serif\" font-size=\"14.00\">samples = 3</text>\n",
       "<text text-anchor=\"middle\" x=\"836.5\" y=\"-223.3\" font-family=\"Times New Roman,serif\" font-size=\"14.00\">value = [0, 3]</text>\n",
       "<text text-anchor=\"middle\" x=\"836.5\" y=\"-208.3\" font-family=\"Times New Roman,serif\" font-size=\"14.00\">class = e</text>\n",
       "</g>\n",
       "<!-- 16&#45;&gt;22 -->\n",
       "<g id=\"edge22\" class=\"edge\">\n",
       "<title>16&#45;&gt;22</title>\n",
       "<path fill=\"none\" stroke=\"black\" d=\"M829.75,-296.88C830.79,-286.22 831.96,-274.35 833.02,-263.52\"/>\n",
       "<polygon fill=\"black\" stroke=\"black\" points=\"836.51,-263.81 834,-253.52 829.54,-263.13 836.51,-263.81\"/>\n",
       "</g>\n",
       "<!-- 18 -->\n",
       "<g id=\"node19\" class=\"node\">\n",
       "<title>18</title>\n",
       "<polygon fill=\"#e58139\" stroke=\"black\" points=\"708,-149.5 597,-149.5 597,-96.5 708,-96.5 708,-149.5\"/>\n",
       "<text text-anchor=\"middle\" x=\"652.5\" y=\"-134.3\" font-family=\"Times New Roman,serif\" font-size=\"14.00\">samples = 2262</text>\n",
       "<text text-anchor=\"middle\" x=\"652.5\" y=\"-119.3\" font-family=\"Times New Roman,serif\" font-size=\"14.00\">value = [2262, 0]</text>\n",
       "<text text-anchor=\"middle\" x=\"652.5\" y=\"-104.3\" font-family=\"Times New Roman,serif\" font-size=\"14.00\">class = p</text>\n",
       "</g>\n",
       "<!-- 17&#45;&gt;18 -->\n",
       "<g id=\"edge18\" class=\"edge\">\n",
       "<title>17&#45;&gt;18</title>\n",
       "<path fill=\"none\" stroke=\"black\" d=\"M695.72,-192.88C688.75,-181.78 680.97,-169.37 673.95,-158.18\"/>\n",
       "<polygon fill=\"black\" stroke=\"black\" points=\"676.79,-156.13 668.51,-149.52 670.86,-159.85 676.79,-156.13\"/>\n",
       "</g>\n",
       "<!-- 19 -->\n",
       "<g id=\"node20\" class=\"node\">\n",
       "<title>19</title>\n",
       "<polygon fill=\"#e5833c\" stroke=\"black\" points=\"835,-157 726,-157 726,-89 835,-89 835,-157\"/>\n",
       "<text text-anchor=\"middle\" x=\"780.5\" y=\"-141.8\" font-family=\"Times New Roman,serif\" font-size=\"14.00\">bruises_t &lt;= 0.5</text>\n",
       "<text text-anchor=\"middle\" x=\"780.5\" y=\"-126.8\" font-family=\"Times New Roman,serif\" font-size=\"14.00\">samples = 122</text>\n",
       "<text text-anchor=\"middle\" x=\"780.5\" y=\"-111.8\" font-family=\"Times New Roman,serif\" font-size=\"14.00\">value = [120, 2]</text>\n",
       "<text text-anchor=\"middle\" x=\"780.5\" y=\"-96.8\" font-family=\"Times New Roman,serif\" font-size=\"14.00\">class = p</text>\n",
       "</g>\n",
       "<!-- 17&#45;&gt;19 -->\n",
       "<g id=\"edge19\" class=\"edge\">\n",
       "<title>17&#45;&gt;19</title>\n",
       "<path fill=\"none\" stroke=\"black\" d=\"M737.28,-192.88C742.7,-184.24 748.61,-174.82 754.28,-165.79\"/>\n",
       "<polygon fill=\"black\" stroke=\"black\" points=\"757.26,-167.63 759.61,-157.3 751.33,-163.91 757.26,-167.63\"/>\n",
       "</g>\n",
       "<!-- 20 -->\n",
       "<g id=\"node21\" class=\"node\">\n",
       "<title>20</title>\n",
       "<polygon fill=\"#e58139\" stroke=\"black\" points=\"774.5,-53 670.5,-53 670.5,0 774.5,0 774.5,-53\"/>\n",
       "<text text-anchor=\"middle\" x=\"722.5\" y=\"-37.8\" font-family=\"Times New Roman,serif\" font-size=\"14.00\">samples = 120</text>\n",
       "<text text-anchor=\"middle\" x=\"722.5\" y=\"-22.8\" font-family=\"Times New Roman,serif\" font-size=\"14.00\">value = [120, 0]</text>\n",
       "<text text-anchor=\"middle\" x=\"722.5\" y=\"-7.8\" font-family=\"Times New Roman,serif\" font-size=\"14.00\">class = p</text>\n",
       "</g>\n",
       "<!-- 19&#45;&gt;20 -->\n",
       "<g id=\"edge20\" class=\"edge\">\n",
       "<title>19&#45;&gt;20</title>\n",
       "<path fill=\"none\" stroke=\"black\" d=\"M760.21,-88.95C754.82,-80.17 748.99,-70.66 743.56,-61.82\"/>\n",
       "<polygon fill=\"black\" stroke=\"black\" points=\"746.51,-59.93 738.3,-53.24 740.54,-63.59 746.51,-59.93\"/>\n",
       "</g>\n",
       "<!-- 21 -->\n",
       "<g id=\"node22\" class=\"node\">\n",
       "<title>21</title>\n",
       "<polygon fill=\"#399de5\" stroke=\"black\" points=\"884,-53 793,-53 793,0 884,0 884,-53\"/>\n",
       "<text text-anchor=\"middle\" x=\"838.5\" y=\"-37.8\" font-family=\"Times New Roman,serif\" font-size=\"14.00\">samples = 2</text>\n",
       "<text text-anchor=\"middle\" x=\"838.5\" y=\"-22.8\" font-family=\"Times New Roman,serif\" font-size=\"14.00\">value = [0, 2]</text>\n",
       "<text text-anchor=\"middle\" x=\"838.5\" y=\"-7.8\" font-family=\"Times New Roman,serif\" font-size=\"14.00\">class = e</text>\n",
       "</g>\n",
       "<!-- 19&#45;&gt;21 -->\n",
       "<g id=\"edge21\" class=\"edge\">\n",
       "<title>19&#45;&gt;21</title>\n",
       "<path fill=\"none\" stroke=\"black\" d=\"M800.79,-88.95C806.18,-80.17 812.01,-70.66 817.44,-61.82\"/>\n",
       "<polygon fill=\"black\" stroke=\"black\" points=\"820.46,-63.59 822.7,-53.24 814.49,-59.93 820.46,-63.59\"/>\n",
       "</g>\n",
       "<!-- 24 -->\n",
       "<g id=\"node25\" class=\"node\">\n",
       "<title>24</title>\n",
       "<polygon fill=\"#399de5\" stroke=\"black\" points=\"1017.5,-253.5 919.5,-253.5 919.5,-200.5 1017.5,-200.5 1017.5,-253.5\"/>\n",
       "<text text-anchor=\"middle\" x=\"968.5\" y=\"-238.3\" font-family=\"Times New Roman,serif\" font-size=\"14.00\">samples = 26</text>\n",
       "<text text-anchor=\"middle\" x=\"968.5\" y=\"-223.3\" font-family=\"Times New Roman,serif\" font-size=\"14.00\">value = [0, 26]</text>\n",
       "<text text-anchor=\"middle\" x=\"968.5\" y=\"-208.3\" font-family=\"Times New Roman,serif\" font-size=\"14.00\">class = e</text>\n",
       "</g>\n",
       "<!-- 23&#45;&gt;24 -->\n",
       "<g id=\"edge24\" class=\"edge\">\n",
       "<title>23&#45;&gt;24</title>\n",
       "<path fill=\"none\" stroke=\"black\" d=\"M975.25,-296.88C974.21,-286.22 973.04,-274.35 971.98,-263.52\"/>\n",
       "<polygon fill=\"black\" stroke=\"black\" points=\"975.46,-263.13 971,-253.52 968.49,-263.81 975.46,-263.13\"/>\n",
       "</g>\n",
       "<!-- 25 -->\n",
       "<g id=\"node26\" class=\"node\">\n",
       "<title>25</title>\n",
       "<polygon fill=\"#e58139\" stroke=\"black\" points=\"1127,-253.5 1036,-253.5 1036,-200.5 1127,-200.5 1127,-253.5\"/>\n",
       "<text text-anchor=\"middle\" x=\"1081.5\" y=\"-238.3\" font-family=\"Times New Roman,serif\" font-size=\"14.00\">samples = 9</text>\n",
       "<text text-anchor=\"middle\" x=\"1081.5\" y=\"-223.3\" font-family=\"Times New Roman,serif\" font-size=\"14.00\">value = [9, 0]</text>\n",
       "<text text-anchor=\"middle\" x=\"1081.5\" y=\"-208.3\" font-family=\"Times New Roman,serif\" font-size=\"14.00\">class = p</text>\n",
       "</g>\n",
       "<!-- 23&#45;&gt;25 -->\n",
       "<g id=\"edge25\" class=\"edge\">\n",
       "<title>23&#45;&gt;25</title>\n",
       "<path fill=\"none\" stroke=\"black\" d=\"M1011.94,-296.88C1023.6,-285.34 1036.68,-272.39 1048.32,-260.86\"/>\n",
       "<polygon fill=\"black\" stroke=\"black\" points=\"1051.09,-263.04 1055.73,-253.52 1046.16,-258.07 1051.09,-263.04\"/>\n",
       "</g>\n",
       "</g>\n",
       "</svg>\n"
      ],
      "text/plain": [
       "<graphviz.sources.Source at 0x18022b9e730>"
      ]
     },
     "metadata": {},
     "output_type": "display_data"
    }
   ],
   "source": [
    "import graphviz\n",
    "\n",
    "with open('tree.dot', encoding='UTF8') as f:\n",
    "    dot_graph = f.read()\n",
    "\n",
    "display(graphviz.Source(dot_graph))"
   ]
  },
  {
   "cell_type": "code",
   "execution_count": 20,
   "id": "0ddcb099",
   "metadata": {},
   "outputs": [
    {
     "data": {
      "text/plain": [
       "0"
      ]
     },
     "execution_count": 20,
     "metadata": {},
     "output_type": "execute_result"
    }
   ],
   "source": [
    "from subprocess import check_call\n",
    "check_call(['dot','-Tpng','tree.dot','-o','tree.png'])"
   ]
  },
  {
   "cell_type": "markdown",
   "id": "67cff903",
   "metadata": {},
   "source": [
    "# 과대적합 제어"
   ]
  },
  {
   "cell_type": "markdown",
   "id": "3395774d",
   "metadata": {},
   "source": [
    "## leaf node : 10개로 조정\n",
    "- 1. leaf node의 수를 10개로 조정한 decisiontree모델 생성\n",
    "- 2. decisiontree 모델 학습\n",
    "- 3. decisiontree 모델 평가\n",
    "- 4. 시각화"
   ]
  },
  {
   "cell_type": "code",
   "execution_count": 21,
   "id": "fa68f14e",
   "metadata": {},
   "outputs": [],
   "source": [
    "tree_model2 = DecisionTreeClassifier(max_leaf_nodes = 10)"
   ]
  },
  {
   "cell_type": "code",
   "execution_count": 22,
   "id": "d10e5688",
   "metadata": {},
   "outputs": [
    {
     "data": {
      "text/plain": [
       "DecisionTreeClassifier(max_leaf_nodes=10)"
      ]
     },
     "execution_count": 22,
     "metadata": {},
     "output_type": "execute_result"
    }
   ],
   "source": [
    "tree_model2.fit(X_train,y_train)"
   ]
  },
  {
   "cell_type": "code",
   "execution_count": 23,
   "id": "d556ebe3",
   "metadata": {},
   "outputs": [
    {
     "data": {
      "text/plain": [
       "0.9975378121702427"
      ]
     },
     "execution_count": 23,
     "metadata": {},
     "output_type": "execute_result"
    }
   ],
   "source": [
    "tree_model2.score(X_train,y_train)"
   ]
  },
  {
   "cell_type": "code",
   "execution_count": 24,
   "id": "316a4fe9",
   "metadata": {},
   "outputs": [
    {
     "data": {
      "text/plain": [
       "0.9958982772764561"
      ]
     },
     "execution_count": 24,
     "metadata": {},
     "output_type": "execute_result"
    }
   ],
   "source": [
    "tree_model2.score(X_test,y_test)"
   ]
  },
  {
   "cell_type": "code",
   "execution_count": 25,
   "id": "5883395e",
   "metadata": {},
   "outputs": [],
   "source": [
    "from sklearn.tree import export_graphviz\n",
    "export_graphviz(tree_model2, out_file='tree2.dot',\n",
    "               class_names=['p','e'],\n",
    "               feature_names=X_one_hot.columns,\n",
    "               impurity=False,\n",
    "               filled=True)"
   ]
  },
  {
   "cell_type": "code",
   "execution_count": 26,
   "id": "3717efdc",
   "metadata": {},
   "outputs": [
    {
     "data": {
      "image/svg+xml": [
       "<?xml version=\"1.0\" encoding=\"UTF-8\" standalone=\"no\"?>\n",
       "<!DOCTYPE svg PUBLIC \"-//W3C//DTD SVG 1.1//EN\"\n",
       " \"http://www.w3.org/Graphics/SVG/1.1/DTD/svg11.dtd\">\n",
       "<!-- Generated by graphviz version 2.50.0 (20211204.2007)\n",
       " -->\n",
       "<!-- Title: Tree Pages: 1 -->\n",
       "<svg width=\"1019pt\" height=\"685pt\"\n",
       " viewBox=\"0.00 0.00 1018.50 685.00\" xmlns=\"http://www.w3.org/2000/svg\" xmlns:xlink=\"http://www.w3.org/1999/xlink\">\n",
       "<g id=\"graph0\" class=\"graph\" transform=\"scale(1 1) rotate(0) translate(4 681)\">\n",
       "<title>Tree</title>\n",
       "<polygon fill=\"white\" stroke=\"transparent\" points=\"-4,4 -4,-681 1014.5,-681 1014.5,4 -4,4\"/>\n",
       "<!-- 0 -->\n",
       "<g id=\"node1\" class=\"node\">\n",
       "<title>0</title>\n",
       "<polygon fill=\"#fdf7f3\" stroke=\"black\" points=\"747,-677 616,-677 616,-609 747,-609 747,-677\"/>\n",
       "<text text-anchor=\"middle\" x=\"681.5\" y=\"-661.8\" font-family=\"Times New Roman,serif\" font-size=\"14.00\">odor_n &lt;= 0.5</text>\n",
       "<text text-anchor=\"middle\" x=\"681.5\" y=\"-646.8\" font-family=\"Times New Roman,serif\" font-size=\"14.00\">samples = 5686</text>\n",
       "<text text-anchor=\"middle\" x=\"681.5\" y=\"-631.8\" font-family=\"Times New Roman,serif\" font-size=\"14.00\">value = [2932, 2754]</text>\n",
       "<text text-anchor=\"middle\" x=\"681.5\" y=\"-616.8\" font-family=\"Times New Roman,serif\" font-size=\"14.00\">class = p</text>\n",
       "</g>\n",
       "<!-- 1 -->\n",
       "<g id=\"node2\" class=\"node\">\n",
       "<title>1</title>\n",
       "<polygon fill=\"#61b1ea\" stroke=\"black\" points=\"634,-573 509,-573 509,-505 634,-505 634,-573\"/>\n",
       "<text text-anchor=\"middle\" x=\"571.5\" y=\"-557.8\" font-family=\"Times New Roman,serif\" font-size=\"14.00\">stalk&#45;root_c &lt;= 0.5</text>\n",
       "<text text-anchor=\"middle\" x=\"571.5\" y=\"-542.8\" font-family=\"Times New Roman,serif\" font-size=\"14.00\">samples = 3218</text>\n",
       "<text text-anchor=\"middle\" x=\"571.5\" y=\"-527.8\" font-family=\"Times New Roman,serif\" font-size=\"14.00\">value = [541, 2677]</text>\n",
       "<text text-anchor=\"middle\" x=\"571.5\" y=\"-512.8\" font-family=\"Times New Roman,serif\" font-size=\"14.00\">class = e</text>\n",
       "</g>\n",
       "<!-- 0&#45;&gt;1 -->\n",
       "<g id=\"edge1\" class=\"edge\">\n",
       "<title>0&#45;&gt;1</title>\n",
       "<path fill=\"none\" stroke=\"black\" d=\"M645.79,-608.88C635.89,-599.71 625.04,-589.65 614.77,-580.12\"/>\n",
       "<polygon fill=\"black\" stroke=\"black\" points=\"617.12,-577.53 607.41,-573.3 612.36,-582.67 617.12,-577.53\"/>\n",
       "<text text-anchor=\"middle\" x=\"608.35\" y=\"-594.58\" font-family=\"Times New Roman,serif\" font-size=\"14.00\">True</text>\n",
       "</g>\n",
       "<!-- 2 -->\n",
       "<g id=\"node15\" class=\"node\">\n",
       "<title>2</title>\n",
       "<polygon fill=\"#e6853f\" stroke=\"black\" points=\"874,-573 709,-573 709,-505 874,-505 874,-573\"/>\n",
       "<text text-anchor=\"middle\" x=\"791.5\" y=\"-557.8\" font-family=\"Times New Roman,serif\" font-size=\"14.00\">spore&#45;print&#45;color_r &lt;= 0.5</text>\n",
       "<text text-anchor=\"middle\" x=\"791.5\" y=\"-542.8\" font-family=\"Times New Roman,serif\" font-size=\"14.00\">samples = 2468</text>\n",
       "<text text-anchor=\"middle\" x=\"791.5\" y=\"-527.8\" font-family=\"Times New Roman,serif\" font-size=\"14.00\">value = [2391, 77]</text>\n",
       "<text text-anchor=\"middle\" x=\"791.5\" y=\"-512.8\" font-family=\"Times New Roman,serif\" font-size=\"14.00\">class = p</text>\n",
       "</g>\n",
       "<!-- 0&#45;&gt;2 -->\n",
       "<g id=\"edge14\" class=\"edge\">\n",
       "<title>0&#45;&gt;2</title>\n",
       "<path fill=\"none\" stroke=\"black\" d=\"M717.21,-608.88C727.11,-599.71 737.96,-589.65 748.23,-580.12\"/>\n",
       "<polygon fill=\"black\" stroke=\"black\" points=\"750.64,-582.67 755.59,-573.3 745.88,-577.53 750.64,-582.67\"/>\n",
       "<text text-anchor=\"middle\" x=\"754.65\" y=\"-594.58\" font-family=\"Times New Roman,serif\" font-size=\"14.00\">False</text>\n",
       "</g>\n",
       "<!-- 3 -->\n",
       "<g id=\"node3\" class=\"node\">\n",
       "<title>3</title>\n",
       "<polygon fill=\"#47a4e7\" stroke=\"black\" points=\"454,-469 329,-469 329,-401 454,-401 454,-469\"/>\n",
       "<text text-anchor=\"middle\" x=\"391.5\" y=\"-453.8\" font-family=\"Times New Roman,serif\" font-size=\"14.00\">stalk&#45;root_r &lt;= 0.5</text>\n",
       "<text text-anchor=\"middle\" x=\"391.5\" y=\"-438.8\" font-family=\"Times New Roman,serif\" font-size=\"14.00\">samples = 2846</text>\n",
       "<text text-anchor=\"middle\" x=\"391.5\" y=\"-423.8\" font-family=\"Times New Roman,serif\" font-size=\"14.00\">value = [193, 2653]</text>\n",
       "<text text-anchor=\"middle\" x=\"391.5\" y=\"-408.8\" font-family=\"Times New Roman,serif\" font-size=\"14.00\">class = e</text>\n",
       "</g>\n",
       "<!-- 1&#45;&gt;3 -->\n",
       "<g id=\"edge2\" class=\"edge\">\n",
       "<title>1&#45;&gt;3</title>\n",
       "<path fill=\"none\" stroke=\"black\" d=\"M513.06,-504.88C495.84,-495.12 476.85,-484.37 459.11,-474.31\"/>\n",
       "<polygon fill=\"black\" stroke=\"black\" points=\"460.38,-471.01 449.96,-469.12 456.93,-477.1 460.38,-471.01\"/>\n",
       "</g>\n",
       "<!-- 4 -->\n",
       "<g id=\"node12\" class=\"node\">\n",
       "<title>4</title>\n",
       "<polygon fill=\"#e78a47\" stroke=\"black\" points=\"670.5,-469 472.5,-469 472.5,-401 670.5,-401 670.5,-469\"/>\n",
       "<text text-anchor=\"middle\" x=\"571.5\" y=\"-453.8\" font-family=\"Times New Roman,serif\" font-size=\"14.00\">stalk&#45;color&#45;below&#45;ring_w &lt;= 0.5</text>\n",
       "<text text-anchor=\"middle\" x=\"571.5\" y=\"-438.8\" font-family=\"Times New Roman,serif\" font-size=\"14.00\">samples = 372</text>\n",
       "<text text-anchor=\"middle\" x=\"571.5\" y=\"-423.8\" font-family=\"Times New Roman,serif\" font-size=\"14.00\">value = [348, 24]</text>\n",
       "<text text-anchor=\"middle\" x=\"571.5\" y=\"-408.8\" font-family=\"Times New Roman,serif\" font-size=\"14.00\">class = p</text>\n",
       "</g>\n",
       "<!-- 1&#45;&gt;4 -->\n",
       "<g id=\"edge11\" class=\"edge\">\n",
       "<title>1&#45;&gt;4</title>\n",
       "<path fill=\"none\" stroke=\"black\" d=\"M571.5,-504.88C571.5,-496.78 571.5,-487.98 571.5,-479.47\"/>\n",
       "<polygon fill=\"black\" stroke=\"black\" points=\"575,-479.3 571.5,-469.3 568,-479.3 575,-479.3\"/>\n",
       "</g>\n",
       "<!-- 5 -->\n",
       "<g id=\"node4\" class=\"node\">\n",
       "<title>5</title>\n",
       "<polygon fill=\"#3ea0e6\" stroke=\"black\" points=\"326,-365 159,-365 159,-297 326,-297 326,-365\"/>\n",
       "<text text-anchor=\"middle\" x=\"242.5\" y=\"-349.8\" font-family=\"Times New Roman,serif\" font-size=\"14.00\">spore&#45;print&#45;color_u &lt;= 0.5</text>\n",
       "<text text-anchor=\"middle\" x=\"242.5\" y=\"-334.8\" font-family=\"Times New Roman,serif\" font-size=\"14.00\">samples = 2722</text>\n",
       "<text text-anchor=\"middle\" x=\"242.5\" y=\"-319.8\" font-family=\"Times New Roman,serif\" font-size=\"14.00\">value = [69, 2653]</text>\n",
       "<text text-anchor=\"middle\" x=\"242.5\" y=\"-304.8\" font-family=\"Times New Roman,serif\" font-size=\"14.00\">class = e</text>\n",
       "</g>\n",
       "<!-- 3&#45;&gt;5 -->\n",
       "<g id=\"edge3\" class=\"edge\">\n",
       "<title>3&#45;&gt;5</title>\n",
       "<path fill=\"none\" stroke=\"black\" d=\"M343.12,-400.88C329.13,-391.3 313.73,-380.76 299.27,-370.86\"/>\n",
       "<polygon fill=\"black\" stroke=\"black\" points=\"301.12,-367.89 290.89,-365.12 297.16,-373.66 301.12,-367.89\"/>\n",
       "</g>\n",
       "<!-- 6 -->\n",
       "<g id=\"node11\" class=\"node\">\n",
       "<title>6</title>\n",
       "<polygon fill=\"#e58139\" stroke=\"black\" points=\"448.5,-357.5 344.5,-357.5 344.5,-304.5 448.5,-304.5 448.5,-357.5\"/>\n",
       "<text text-anchor=\"middle\" x=\"396.5\" y=\"-342.3\" font-family=\"Times New Roman,serif\" font-size=\"14.00\">samples = 124</text>\n",
       "<text text-anchor=\"middle\" x=\"396.5\" y=\"-327.3\" font-family=\"Times New Roman,serif\" font-size=\"14.00\">value = [124, 0]</text>\n",
       "<text text-anchor=\"middle\" x=\"396.5\" y=\"-312.3\" font-family=\"Times New Roman,serif\" font-size=\"14.00\">class = p</text>\n",
       "</g>\n",
       "<!-- 3&#45;&gt;6 -->\n",
       "<g id=\"edge10\" class=\"edge\">\n",
       "<title>3&#45;&gt;6</title>\n",
       "<path fill=\"none\" stroke=\"black\" d=\"M393.12,-400.88C393.65,-390.22 394.23,-378.35 394.76,-367.52\"/>\n",
       "<polygon fill=\"black\" stroke=\"black\" points=\"398.26,-367.68 395.25,-357.52 391.26,-367.34 398.26,-367.68\"/>\n",
       "</g>\n",
       "<!-- 9 -->\n",
       "<g id=\"node5\" class=\"node\">\n",
       "<title>9</title>\n",
       "<polygon fill=\"#3b9ee5\" stroke=\"black\" points=\"238.5,-261 120.5,-261 120.5,-193 238.5,-193 238.5,-261\"/>\n",
       "<text text-anchor=\"middle\" x=\"179.5\" y=\"-245.8\" font-family=\"Times New Roman,serif\" font-size=\"14.00\">odor_a &lt;= 0.5</text>\n",
       "<text text-anchor=\"middle\" x=\"179.5\" y=\"-230.8\" font-family=\"Times New Roman,serif\" font-size=\"14.00\">samples = 2686</text>\n",
       "<text text-anchor=\"middle\" x=\"179.5\" y=\"-215.8\" font-family=\"Times New Roman,serif\" font-size=\"14.00\">value = [33, 2653]</text>\n",
       "<text text-anchor=\"middle\" x=\"179.5\" y=\"-200.8\" font-family=\"Times New Roman,serif\" font-size=\"14.00\">class = e</text>\n",
       "</g>\n",
       "<!-- 5&#45;&gt;9 -->\n",
       "<g id=\"edge4\" class=\"edge\">\n",
       "<title>5&#45;&gt;9</title>\n",
       "<path fill=\"none\" stroke=\"black\" d=\"M222.05,-296.88C216.76,-288.33 211.01,-279.01 205.49,-270.07\"/>\n",
       "<polygon fill=\"black\" stroke=\"black\" points=\"208.3,-267.97 200.07,-261.3 202.34,-271.65 208.3,-267.97\"/>\n",
       "</g>\n",
       "<!-- 10 -->\n",
       "<g id=\"node10\" class=\"node\">\n",
       "<title>10</title>\n",
       "<polygon fill=\"#e58139\" stroke=\"black\" points=\"354.5,-253.5 256.5,-253.5 256.5,-200.5 354.5,-200.5 354.5,-253.5\"/>\n",
       "<text text-anchor=\"middle\" x=\"305.5\" y=\"-238.3\" font-family=\"Times New Roman,serif\" font-size=\"14.00\">samples = 36</text>\n",
       "<text text-anchor=\"middle\" x=\"305.5\" y=\"-223.3\" font-family=\"Times New Roman,serif\" font-size=\"14.00\">value = [36, 0]</text>\n",
       "<text text-anchor=\"middle\" x=\"305.5\" y=\"-208.3\" font-family=\"Times New Roman,serif\" font-size=\"14.00\">class = p</text>\n",
       "</g>\n",
       "<!-- 5&#45;&gt;10 -->\n",
       "<g id=\"edge9\" class=\"edge\">\n",
       "<title>5&#45;&gt;10</title>\n",
       "<path fill=\"none\" stroke=\"black\" d=\"M262.95,-296.88C269.82,-285.78 277.48,-273.37 284.39,-262.18\"/>\n",
       "<polygon fill=\"black\" stroke=\"black\" points=\"287.46,-263.87 289.74,-253.52 281.5,-260.19 287.46,-263.87\"/>\n",
       "</g>\n",
       "<!-- 15 -->\n",
       "<g id=\"node6\" class=\"node\">\n",
       "<title>15</title>\n",
       "<polygon fill=\"#3a9ee5\" stroke=\"black\" points=\"175.5,-157 57.5,-157 57.5,-89 175.5,-89 175.5,-157\"/>\n",
       "<text text-anchor=\"middle\" x=\"116.5\" y=\"-141.8\" font-family=\"Times New Roman,serif\" font-size=\"14.00\">odor_l &lt;= 0.5</text>\n",
       "<text text-anchor=\"middle\" x=\"116.5\" y=\"-126.8\" font-family=\"Times New Roman,serif\" font-size=\"14.00\">samples = 2669</text>\n",
       "<text text-anchor=\"middle\" x=\"116.5\" y=\"-111.8\" font-family=\"Times New Roman,serif\" font-size=\"14.00\">value = [16, 2653]</text>\n",
       "<text text-anchor=\"middle\" x=\"116.5\" y=\"-96.8\" font-family=\"Times New Roman,serif\" font-size=\"14.00\">class = e</text>\n",
       "</g>\n",
       "<!-- 9&#45;&gt;15 -->\n",
       "<g id=\"edge5\" class=\"edge\">\n",
       "<title>9&#45;&gt;15</title>\n",
       "<path fill=\"none\" stroke=\"black\" d=\"M159.05,-192.88C153.76,-184.33 148.01,-175.01 142.49,-166.07\"/>\n",
       "<polygon fill=\"black\" stroke=\"black\" points=\"145.3,-163.97 137.07,-157.3 139.34,-167.65 145.3,-163.97\"/>\n",
       "</g>\n",
       "<!-- 16 -->\n",
       "<g id=\"node9\" class=\"node\">\n",
       "<title>16</title>\n",
       "<polygon fill=\"#e58139\" stroke=\"black\" points=\"291.5,-149.5 193.5,-149.5 193.5,-96.5 291.5,-96.5 291.5,-149.5\"/>\n",
       "<text text-anchor=\"middle\" x=\"242.5\" y=\"-134.3\" font-family=\"Times New Roman,serif\" font-size=\"14.00\">samples = 17</text>\n",
       "<text text-anchor=\"middle\" x=\"242.5\" y=\"-119.3\" font-family=\"Times New Roman,serif\" font-size=\"14.00\">value = [17, 0]</text>\n",
       "<text text-anchor=\"middle\" x=\"242.5\" y=\"-104.3\" font-family=\"Times New Roman,serif\" font-size=\"14.00\">class = p</text>\n",
       "</g>\n",
       "<!-- 9&#45;&gt;16 -->\n",
       "<g id=\"edge8\" class=\"edge\">\n",
       "<title>9&#45;&gt;16</title>\n",
       "<path fill=\"none\" stroke=\"black\" d=\"M199.95,-192.88C206.82,-181.78 214.48,-169.37 221.39,-158.18\"/>\n",
       "<polygon fill=\"black\" stroke=\"black\" points=\"224.46,-159.87 226.74,-149.52 218.5,-156.19 224.46,-159.87\"/>\n",
       "</g>\n",
       "<!-- 17 -->\n",
       "<g id=\"node7\" class=\"node\">\n",
       "<title>17</title>\n",
       "<polygon fill=\"#399de5\" stroke=\"black\" points=\"111,-53 0,-53 0,0 111,0 111,-53\"/>\n",
       "<text text-anchor=\"middle\" x=\"55.5\" y=\"-37.8\" font-family=\"Times New Roman,serif\" font-size=\"14.00\">samples = 2653</text>\n",
       "<text text-anchor=\"middle\" x=\"55.5\" y=\"-22.8\" font-family=\"Times New Roman,serif\" font-size=\"14.00\">value = [0, 2653]</text>\n",
       "<text text-anchor=\"middle\" x=\"55.5\" y=\"-7.8\" font-family=\"Times New Roman,serif\" font-size=\"14.00\">class = e</text>\n",
       "</g>\n",
       "<!-- 15&#45;&gt;17 -->\n",
       "<g id=\"edge6\" class=\"edge\">\n",
       "<title>15&#45;&gt;17</title>\n",
       "<path fill=\"none\" stroke=\"black\" d=\"M95.17,-88.95C89.5,-80.17 83.36,-70.66 77.65,-61.82\"/>\n",
       "<polygon fill=\"black\" stroke=\"black\" points=\"80.48,-59.74 72.11,-53.24 74.6,-63.54 80.48,-59.74\"/>\n",
       "</g>\n",
       "<!-- 18 -->\n",
       "<g id=\"node8\" class=\"node\">\n",
       "<title>18</title>\n",
       "<polygon fill=\"#e58139\" stroke=\"black\" points=\"227.5,-53 129.5,-53 129.5,0 227.5,0 227.5,-53\"/>\n",
       "<text text-anchor=\"middle\" x=\"178.5\" y=\"-37.8\" font-family=\"Times New Roman,serif\" font-size=\"14.00\">samples = 16</text>\n",
       "<text text-anchor=\"middle\" x=\"178.5\" y=\"-22.8\" font-family=\"Times New Roman,serif\" font-size=\"14.00\">value = [16, 0]</text>\n",
       "<text text-anchor=\"middle\" x=\"178.5\" y=\"-7.8\" font-family=\"Times New Roman,serif\" font-size=\"14.00\">class = p</text>\n",
       "</g>\n",
       "<!-- 15&#45;&gt;18 -->\n",
       "<g id=\"edge7\" class=\"edge\">\n",
       "<title>15&#45;&gt;18</title>\n",
       "<path fill=\"none\" stroke=\"black\" d=\"M138.18,-88.95C143.95,-80.17 150.18,-70.66 155.99,-61.82\"/>\n",
       "<polygon fill=\"black\" stroke=\"black\" points=\"159.06,-63.52 161.61,-53.24 153.2,-59.68 159.06,-63.52\"/>\n",
       "</g>\n",
       "<!-- 11 -->\n",
       "<g id=\"node13\" class=\"node\">\n",
       "<title>11</title>\n",
       "<polygon fill=\"#399de5\" stroke=\"black\" points=\"582.5,-357.5 484.5,-357.5 484.5,-304.5 582.5,-304.5 582.5,-357.5\"/>\n",
       "<text text-anchor=\"middle\" x=\"533.5\" y=\"-342.3\" font-family=\"Times New Roman,serif\" font-size=\"14.00\">samples = 24</text>\n",
       "<text text-anchor=\"middle\" x=\"533.5\" y=\"-327.3\" font-family=\"Times New Roman,serif\" font-size=\"14.00\">value = [0, 24]</text>\n",
       "<text text-anchor=\"middle\" x=\"533.5\" y=\"-312.3\" font-family=\"Times New Roman,serif\" font-size=\"14.00\">class = e</text>\n",
       "</g>\n",
       "<!-- 4&#45;&gt;11 -->\n",
       "<g id=\"edge12\" class=\"edge\">\n",
       "<title>4&#45;&gt;11</title>\n",
       "<path fill=\"none\" stroke=\"black\" d=\"M559.16,-400.88C555.15,-390.11 550.68,-378.11 546.61,-367.18\"/>\n",
       "<polygon fill=\"black\" stroke=\"black\" points=\"549.78,-365.67 543.01,-357.52 543.22,-368.11 549.78,-365.67\"/>\n",
       "</g>\n",
       "<!-- 12 -->\n",
       "<g id=\"node14\" class=\"node\">\n",
       "<title>12</title>\n",
       "<polygon fill=\"#e58139\" stroke=\"black\" points=\"704.5,-357.5 600.5,-357.5 600.5,-304.5 704.5,-304.5 704.5,-357.5\"/>\n",
       "<text text-anchor=\"middle\" x=\"652.5\" y=\"-342.3\" font-family=\"Times New Roman,serif\" font-size=\"14.00\">samples = 348</text>\n",
       "<text text-anchor=\"middle\" x=\"652.5\" y=\"-327.3\" font-family=\"Times New Roman,serif\" font-size=\"14.00\">value = [348, 0]</text>\n",
       "<text text-anchor=\"middle\" x=\"652.5\" y=\"-312.3\" font-family=\"Times New Roman,serif\" font-size=\"14.00\">class = p</text>\n",
       "</g>\n",
       "<!-- 4&#45;&gt;12 -->\n",
       "<g id=\"edge13\" class=\"edge\">\n",
       "<title>4&#45;&gt;12</title>\n",
       "<path fill=\"none\" stroke=\"black\" d=\"M597.8,-400.88C606.79,-389.56 616.86,-376.88 625.88,-365.52\"/>\n",
       "<polygon fill=\"black\" stroke=\"black\" points=\"628.76,-367.53 632.23,-357.52 623.27,-363.17 628.76,-367.53\"/>\n",
       "</g>\n",
       "<!-- 7 -->\n",
       "<g id=\"node16\" class=\"node\">\n",
       "<title>7</title>\n",
       "<polygon fill=\"#e5833c\" stroke=\"black\" points=\"894.5,-469 688.5,-469 688.5,-401 894.5,-401 894.5,-469\"/>\n",
       "<text text-anchor=\"middle\" x=\"791.5\" y=\"-453.8\" font-family=\"Times New Roman,serif\" font-size=\"14.00\">stalk&#45;surface&#45;below&#45;ring_y &lt;= 0.5</text>\n",
       "<text text-anchor=\"middle\" x=\"791.5\" y=\"-438.8\" font-family=\"Times New Roman,serif\" font-size=\"14.00\">samples = 2422</text>\n",
       "<text text-anchor=\"middle\" x=\"791.5\" y=\"-423.8\" font-family=\"Times New Roman,serif\" font-size=\"14.00\">value = [2391, 31]</text>\n",
       "<text text-anchor=\"middle\" x=\"791.5\" y=\"-408.8\" font-family=\"Times New Roman,serif\" font-size=\"14.00\">class = p</text>\n",
       "</g>\n",
       "<!-- 2&#45;&gt;7 -->\n",
       "<g id=\"edge15\" class=\"edge\">\n",
       "<title>2&#45;&gt;7</title>\n",
       "<path fill=\"none\" stroke=\"black\" d=\"M791.5,-504.88C791.5,-496.78 791.5,-487.98 791.5,-479.47\"/>\n",
       "<polygon fill=\"black\" stroke=\"black\" points=\"795,-479.3 791.5,-469.3 788,-479.3 795,-479.3\"/>\n",
       "</g>\n",
       "<!-- 8 -->\n",
       "<g id=\"node19\" class=\"node\">\n",
       "<title>8</title>\n",
       "<polygon fill=\"#399de5\" stroke=\"black\" points=\"1010.5,-461.5 912.5,-461.5 912.5,-408.5 1010.5,-408.5 1010.5,-461.5\"/>\n",
       "<text text-anchor=\"middle\" x=\"961.5\" y=\"-446.3\" font-family=\"Times New Roman,serif\" font-size=\"14.00\">samples = 46</text>\n",
       "<text text-anchor=\"middle\" x=\"961.5\" y=\"-431.3\" font-family=\"Times New Roman,serif\" font-size=\"14.00\">value = [0, 46]</text>\n",
       "<text text-anchor=\"middle\" x=\"961.5\" y=\"-416.3\" font-family=\"Times New Roman,serif\" font-size=\"14.00\">class = e</text>\n",
       "</g>\n",
       "<!-- 2&#45;&gt;8 -->\n",
       "<g id=\"edge18\" class=\"edge\">\n",
       "<title>2&#45;&gt;8</title>\n",
       "<path fill=\"none\" stroke=\"black\" d=\"M846.69,-504.88C867.13,-492.62 890.2,-478.78 910.27,-466.74\"/>\n",
       "<polygon fill=\"black\" stroke=\"black\" points=\"912.19,-469.67 918.97,-461.52 908.59,-463.66 912.19,-469.67\"/>\n",
       "</g>\n",
       "<!-- 13 -->\n",
       "<g id=\"node17\" class=\"node\">\n",
       "<title>13</title>\n",
       "<polygon fill=\"#e58139\" stroke=\"black\" points=\"843,-357.5 732,-357.5 732,-304.5 843,-304.5 843,-357.5\"/>\n",
       "<text text-anchor=\"middle\" x=\"787.5\" y=\"-342.3\" font-family=\"Times New Roman,serif\" font-size=\"14.00\">samples = 2387</text>\n",
       "<text text-anchor=\"middle\" x=\"787.5\" y=\"-327.3\" font-family=\"Times New Roman,serif\" font-size=\"14.00\">value = [2382, 5]</text>\n",
       "<text text-anchor=\"middle\" x=\"787.5\" y=\"-312.3\" font-family=\"Times New Roman,serif\" font-size=\"14.00\">class = p</text>\n",
       "</g>\n",
       "<!-- 7&#45;&gt;13 -->\n",
       "<g id=\"edge16\" class=\"edge\">\n",
       "<title>7&#45;&gt;13</title>\n",
       "<path fill=\"none\" stroke=\"black\" d=\"M790.2,-400.88C789.78,-390.22 789.32,-378.35 788.89,-367.52\"/>\n",
       "<polygon fill=\"black\" stroke=\"black\" points=\"792.39,-367.38 788.5,-357.52 785.4,-367.65 792.39,-367.38\"/>\n",
       "</g>\n",
       "<!-- 14 -->\n",
       "<g id=\"node18\" class=\"node\">\n",
       "<title>14</title>\n",
       "<polygon fill=\"#7ebfee\" stroke=\"black\" points=\"959.5,-357.5 861.5,-357.5 861.5,-304.5 959.5,-304.5 959.5,-357.5\"/>\n",
       "<text text-anchor=\"middle\" x=\"910.5\" y=\"-342.3\" font-family=\"Times New Roman,serif\" font-size=\"14.00\">samples = 35</text>\n",
       "<text text-anchor=\"middle\" x=\"910.5\" y=\"-327.3\" font-family=\"Times New Roman,serif\" font-size=\"14.00\">value = [9, 26]</text>\n",
       "<text text-anchor=\"middle\" x=\"910.5\" y=\"-312.3\" font-family=\"Times New Roman,serif\" font-size=\"14.00\">class = e</text>\n",
       "</g>\n",
       "<!-- 7&#45;&gt;14 -->\n",
       "<g id=\"edge17\" class=\"edge\">\n",
       "<title>7&#45;&gt;14</title>\n",
       "<path fill=\"none\" stroke=\"black\" d=\"M830.14,-400.88C843.86,-389.12 859.29,-375.89 872.93,-364.2\"/>\n",
       "<polygon fill=\"black\" stroke=\"black\" points=\"875.41,-366.69 880.73,-357.52 870.86,-361.37 875.41,-366.69\"/>\n",
       "</g>\n",
       "</g>\n",
       "</svg>\n"
      ],
      "text/plain": [
       "<graphviz.sources.Source at 0x18022b954f0>"
      ]
     },
     "metadata": {},
     "output_type": "display_data"
    }
   ],
   "source": [
    "import graphviz\n",
    "\n",
    "with open('tree2.dot', encoding='UTF8') as f:\n",
    "    dot_graph = f.read()\n",
    "\n",
    "display(graphviz.Source(dot_graph))"
   ]
  },
  {
   "cell_type": "code",
   "execution_count": 27,
   "id": "fbac9f67",
   "metadata": {
    "scrolled": true
   },
   "outputs": [
    {
     "data": {
      "text/plain": [
       "0"
      ]
     },
     "execution_count": 27,
     "metadata": {},
     "output_type": "execute_result"
    }
   ],
   "source": [
    "from subprocess import check_call\n",
    "check_call(['dot','-Tpng','tree2.dot','-o','tree2.png'])"
   ]
  },
  {
   "cell_type": "markdown",
   "id": "e0b418c8",
   "metadata": {},
   "source": [
    "# 교차검증"
   ]
  },
  {
   "cell_type": "code",
   "execution_count": 28,
   "id": "cf8ef889",
   "metadata": {},
   "outputs": [],
   "source": [
    "from sklearn.model_selection import cross_val_score"
   ]
  },
  {
   "cell_type": "code",
   "execution_count": 29,
   "id": "6846b9e6",
   "metadata": {},
   "outputs": [
    {
     "data": {
      "text/plain": [
       "0.9998240985048372"
      ]
     },
     "execution_count": 29,
     "metadata": {},
     "output_type": "execute_result"
    }
   ],
   "source": [
    "#사용할 모델 , 문제 , 정답 , 데이터 분활 수\n",
    "cross_val_score(tree_model,X_train,y_train, cv =5).mean()"
   ]
  },
  {
   "cell_type": "markdown",
   "id": "63209788",
   "metadata": {},
   "source": [
    "# 특성선택"
   ]
  },
  {
   "cell_type": "code",
   "execution_count": 30,
   "id": "2c6be07d",
   "metadata": {},
   "outputs": [
    {
     "data": {
      "text/plain": [
       "(5686, 117)"
      ]
     },
     "execution_count": 30,
     "metadata": {},
     "output_type": "execute_result"
    }
   ],
   "source": [
    "X_train.shape"
   ]
  },
  {
   "cell_type": "code",
   "execution_count": 31,
   "id": "efba5231",
   "metadata": {},
   "outputs": [],
   "source": [
    "# 특성의 중요도\n",
    "# 117개의 중요도의 합은 1\n",
    "fi = tree_model.feature_importances_"
   ]
  },
  {
   "cell_type": "code",
   "execution_count": 32,
   "id": "e18b9a8c",
   "metadata": {},
   "outputs": [
    {
     "data": {
      "text/html": [
       "<div>\n",
       "<style scoped>\n",
       "    .dataframe tbody tr th:only-of-type {\n",
       "        vertical-align: middle;\n",
       "    }\n",
       "\n",
       "    .dataframe tbody tr th {\n",
       "        vertical-align: top;\n",
       "    }\n",
       "\n",
       "    .dataframe thead th {\n",
       "        text-align: right;\n",
       "    }\n",
       "</style>\n",
       "<table border=\"1\" class=\"dataframe\">\n",
       "  <thead>\n",
       "    <tr style=\"text-align: right;\">\n",
       "      <th></th>\n",
       "      <th>0</th>\n",
       "    </tr>\n",
       "  </thead>\n",
       "  <tbody>\n",
       "    <tr>\n",
       "      <th>odor_n</th>\n",
       "      <td>0.630558</td>\n",
       "    </tr>\n",
       "    <tr>\n",
       "      <th>stalk-root_c</th>\n",
       "      <td>0.174413</td>\n",
       "    </tr>\n",
       "    <tr>\n",
       "      <th>stalk-surface-below-ring_y</th>\n",
       "      <td>0.092661</td>\n",
       "    </tr>\n",
       "    <tr>\n",
       "      <th>spore-print-color_r</th>\n",
       "      <td>0.030980</td>\n",
       "    </tr>\n",
       "    <tr>\n",
       "      <th>spore-print-color_u</th>\n",
       "      <td>0.024404</td>\n",
       "    </tr>\n",
       "    <tr>\n",
       "      <th>stalk-surface-below-ring_s</th>\n",
       "      <td>0.015810</td>\n",
       "    </tr>\n",
       "    <tr>\n",
       "      <th>odor_a</th>\n",
       "      <td>0.011753</td>\n",
       "    </tr>\n",
       "    <tr>\n",
       "      <th>odor_l</th>\n",
       "      <td>0.011199</td>\n",
       "    </tr>\n",
       "    <tr>\n",
       "      <th>population_y</th>\n",
       "      <td>0.004708</td>\n",
       "    </tr>\n",
       "    <tr>\n",
       "      <th>cap-surface_g</th>\n",
       "      <td>0.002106</td>\n",
       "    </tr>\n",
       "  </tbody>\n",
       "</table>\n",
       "</div>"
      ],
      "text/plain": [
       "                                   0\n",
       "odor_n                      0.630558\n",
       "stalk-root_c                0.174413\n",
       "stalk-surface-below-ring_y  0.092661\n",
       "spore-print-color_r         0.030980\n",
       "spore-print-color_u         0.024404\n",
       "stalk-surface-below-ring_s  0.015810\n",
       "odor_a                      0.011753\n",
       "odor_l                      0.011199\n",
       "population_y                0.004708\n",
       "cap-surface_g               0.002106"
      ]
     },
     "execution_count": 32,
     "metadata": {},
     "output_type": "execute_result"
    }
   ],
   "source": [
    "fi_df= pd.DataFrame(fi,index = X_train.columns)\n",
    "fi_df.sort_values(by=0, ascending=False).head(10)"
   ]
  },
  {
   "cell_type": "code",
   "execution_count": null,
   "id": "33d4ec5d",
   "metadata": {},
   "outputs": [],
   "source": []
  },
  {
   "cell_type": "code",
   "execution_count": 33,
   "id": "6812adc9",
   "metadata": {},
   "outputs": [
    {
     "data": {
      "text/plain": [
       "0.9998240985048372"
      ]
     },
     "execution_count": 33,
     "metadata": {},
     "output_type": "execute_result"
    }
   ],
   "source": [
    "tree=DecisionTreeClassifier(max_depth =7) # gridsearch 활용\n",
    "tree.fit(X_train,y_train)\n",
    "cross_val_score(tree,X_train,y_train,cv=5).mean()"
   ]
  },
  {
   "cell_type": "code",
   "execution_count": 34,
   "id": "d195a68f",
   "metadata": {},
   "outputs": [
    {
     "data": {
      "text/plain": [
       "1.0"
      ]
     },
     "execution_count": 34,
     "metadata": {},
     "output_type": "execute_result"
    }
   ],
   "source": [
    "tree.score(X_test,y_test)"
   ]
  },
  {
   "cell_type": "code",
   "execution_count": 35,
   "id": "72ac6015",
   "metadata": {},
   "outputs": [],
   "source": [
    "from sklearn.model_selection import GridSearchCV"
   ]
  },
  {
   "cell_type": "code",
   "execution_count": 36,
   "id": "aa02f616",
   "metadata": {},
   "outputs": [
    {
     "data": {
      "text/plain": [
       "GridSearchCV(cv=5, estimator=DecisionTreeClassifier(),\n",
       "             param_grid={'max_depth': range(1, 10),\n",
       "                         'max_leaf_nodes': range(10, 20)})"
      ]
     },
     "execution_count": 36,
     "metadata": {},
     "output_type": "execute_result"
    }
   ],
   "source": [
    "param_grid = {\n",
    "    'max_depth' : range(1,10),\n",
    "    'max_leaf_nodes' : range(10,20)\n",
    "}\n",
    "grid = GridSearchCV(DecisionTreeClassifier() , param_grid,cv=5)\n",
    "grid.fit(X_train,y_train)"
   ]
  },
  {
   "cell_type": "code",
   "execution_count": 37,
   "id": "a0dce493",
   "metadata": {},
   "outputs": [
    {
     "data": {
      "text/plain": [
       "0.9998240985048372"
      ]
     },
     "execution_count": 37,
     "metadata": {},
     "output_type": "execute_result"
    }
   ],
   "source": [
    "grid.best_score_"
   ]
  },
  {
   "cell_type": "code",
   "execution_count": 38,
   "id": "12cdaff1",
   "metadata": {},
   "outputs": [
    {
     "data": {
      "text/plain": [
       "{'max_depth': 7, 'max_leaf_nodes': 14}"
      ]
     },
     "execution_count": 38,
     "metadata": {},
     "output_type": "execute_result"
    }
   ],
   "source": [
    "grid.best_params_"
   ]
  },
  {
   "cell_type": "code",
   "execution_count": null,
   "id": "f61904fc",
   "metadata": {},
   "outputs": [],
   "source": []
  },
  {
   "cell_type": "code",
   "execution_count": null,
   "id": "7f1f2b8f",
   "metadata": {},
   "outputs": [],
   "source": []
  }
 ],
 "metadata": {
  "kernelspec": {
   "display_name": "Python 3 (ipykernel)",
   "language": "python",
   "name": "python3"
  },
  "language_info": {
   "codemirror_mode": {
    "name": "ipython",
    "version": 3
   },
   "file_extension": ".py",
   "mimetype": "text/x-python",
   "name": "python",
   "nbconvert_exporter": "python",
   "pygments_lexer": "ipython3",
   "version": "3.9.7"
  },
  "toc": {
   "base_numbering": 1,
   "nav_menu": {},
   "number_sections": true,
   "sideBar": true,
   "skip_h1_title": false,
   "title_cell": "Table of Contents",
   "title_sidebar": "Contents",
   "toc_cell": false,
   "toc_position": {},
   "toc_section_display": true,
   "toc_window_display": false
  }
 },
 "nbformat": 4,
 "nbformat_minor": 5
}
